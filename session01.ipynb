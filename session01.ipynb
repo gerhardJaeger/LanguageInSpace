{
 "cells": [
  {
   "cell_type": "markdown",
   "id": "139eb727",
   "metadata": {
    "slideshow": {
     "slide_type": "slide"
    }
   },
   "source": [
    "# Language in Space\n",
    "\n",
    "## Session 01: Motivation; Overview\n",
    "\n",
    "### Gerhard Jäger\n",
    "\n",
    "October 28, 2021\n"
   ]
  },
  {
   "cell_type": "markdown",
   "id": "a66c397a",
   "metadata": {
    "slideshow": {
     "slide_type": "slide"
    }
   },
   "source": [
    "# Course organization\n",
    "\n",
    "- Thursday 10.15 - 11.45 am, room 0.02 in Wilhelmstraße 19\n",
    "- alternatively: Zoom:\n",
    "\n",
    "    https://zoom.us/j/91684505424\n",
    "    \n",
    "    Meeting ID: 916 8450 5424\n",
    "\n",
    "    Passcode: 978555\n",
    "- participation in person is encouraged but not mandatory\n",
    "- starting next week, there will be weekly homework assignments\n",
    "- for 3 ECTS points, you need to complete the assignments\n",
    "- for 6 ECTS points, you need to complete the assignments and a programming project (after the semester)\n",
    "\n",
    "## Prerequisites\n",
    "\n",
    "- familiarity with the R programming language\n",
    "- basic knowledge of statistics\n"
   ]
  },
  {
   "cell_type": "markdown",
   "id": "abc329a2",
   "metadata": {
    "slideshow": {
     "slide_type": "slide"
    }
   },
   "source": [
    "# Motivation\n",
    "\n",
    "- language use $-$ and therefore languages $-$ exist at specific locations\n",
    "- language data have a spatial structure\n",
    "- language change happens in geographical space\n",
    "    - movement of people\n",
    "    - language contact\n",
    "- statistical modeling needs to take this into account"
   ]
  },
  {
   "cell_type": "markdown",
   "id": "1d475141",
   "metadata": {
    "slideshow": {
     "slide_type": "slide"
    }
   },
   "source": [
    "## Relevance for statistical modeling\n",
    "\n",
    "- social science in general: https://projects.fivethirtyeight.com/trump-biden-election-map/\n",
    "- Linguistics: \n",
    "\n",
    "<div>\n",
    "    <img src=\"_img/dcm.svg\", width=\"500\", align=\"center\">\n",
    "</div>\n",
    "\n"
   ]
  },
  {
   "cell_type": "markdown",
   "id": "79bab3ad",
   "metadata": {
    "slideshow": {
     "slide_type": "slide"
    }
   },
   "source": [
    "## Relevance for statistical modeling\n",
    "\n",
    "\n",
    "<div>\n",
    "    <img src=\"_img/future_tense.svg\", width=\"1000\", align=\"center\">\n",
    "</div>\n",
    "\n"
   ]
  },
  {
   "cell_type": "markdown",
   "id": "f843901c",
   "metadata": {
    "slideshow": {
     "slide_type": "slide"
    }
   },
   "source": [
    "## Data visualization\n",
    "\n",
    "- dialectology: https://soundcomparisons.com/#home\n",
    "- typology: https://wals.info/"
   ]
  },
  {
   "cell_type": "markdown",
   "id": "e7007e55",
   "metadata": {
    "slideshow": {
     "slide_type": "slide"
    }
   },
   "source": [
    "## Data visualization\n",
    "\n",
    "<div>\n",
    "    <img src=\"_img/wieling.svg\", width=\"1000\", align=\"center\">\n",
    "</div>\n",
    "\n",
    "(from Nerbonne 2009, DOI: 10.1111/j.1749-818x2008.00114.x)"
   ]
  },
  {
   "cell_type": "markdown",
   "id": "a00419b6",
   "metadata": {
    "slideshow": {
     "slide_type": "slide"
    }
   },
   "source": [
    "## Data visualization\n",
    "\n",
    "<div>\n",
    "    <img src=\"_img/labov.svg\", width=\"1000\", align=\"center\">\n",
    "</div>\n",
    "\n",
    "(from [Castro Calle 2017](https://www.researchgate.net/publication/322063405_German_Echoes_in_American_English_How_New-dialect_Formation_Triggered_the_Northern_Cities_Shift))"
   ]
  },
  {
   "cell_type": "markdown",
   "id": "4d8b82a0",
   "metadata": {
    "slideshow": {
     "slide_type": "slide"
    }
   },
   "source": [
    "## Data visualization\n",
    "\n",
    "<div>\n",
    "    <img src=\"_img/nerbonne_ich.svg\", width=\"1000\", align=\"center\">\n",
    "</div>"
   ]
  },
  {
   "cell_type": "markdown",
   "id": "0006bb6e",
   "metadata": {
    "slideshow": {
     "slide_type": "slide"
    }
   },
   "source": [
    "# Models of language change\n",
    "\n",
    "- standard model: family tree\n",
    "\n",
    "https://youtu.be/0pa7SPns8fQ\n",
    "\n",
    "<div>\n",
    "    <img src=\"_img/bouckaert.svg\", width=\"500\", align=\"center\">\n",
    "</div>"
   ]
  },
  {
   "cell_type": "markdown",
   "id": "486b39d4",
   "metadata": {
    "slideshow": {
     "slide_type": "slide"
    }
   },
   "source": [
    "# Models of language change\n",
    "\n",
    "- tree structure is determined via sound changes\n",
    "\n",
    "<div>\n",
    "    <img src=\"_img/sound_changes.svg\", width=\"1000\", align=\"center\">\n",
    "</div>"
   ]
  },
  {
   "cell_type": "markdown",
   "id": "a211423f",
   "metadata": {
    "slideshow": {
     "slide_type": "slide"
    }
   },
   "source": [
    "# Models of language change\n",
    "\n",
    "- tree structure is determined via sound changes\n",
    "\n",
    "<div>\n",
    "    <img src=\"_img/germanic_tree.svg\", width=\"1000\", align=\"center\">\n",
    "</div>"
   ]
  },
  {
   "cell_type": "markdown",
   "id": "34a2acb6",
   "metadata": {
    "slideshow": {
     "slide_type": "slide"
    }
   },
   "source": [
    "## The High-German dialects\n",
    "\n",
    "- High German/Yiddish characterized by [High German Consonant Shift](https://en.wikipedia.org/wiki/High_German_consonant_shift)\n",
    "\n",
    "- facts on the ground a lot messier:\n",
    "\n",
    "\n",
    "<div>\n",
    "    <img src=\"_img/rheinischer_facher.svg\", width=\"1000\", align=\"center\">\n",
    "</div>"
   ]
  },
  {
   "cell_type": "markdown",
   "id": "1fd65b2d",
   "metadata": {
    "slideshow": {
     "slide_type": "slide"
    }
   },
   "source": [
    "## Crossing isoglosses\n",
    "\n",
    "<div>\n",
    "    <img src=\"_img/zuerideutsch.svg\", width=\"1800;\"/>\n",
    "</div>"
   ]
  },
  {
   "cell_type": "markdown",
   "id": "890e59ef",
   "metadata": {
    "slideshow": {
     "slide_type": "slide"
    }
   },
   "source": [
    "- study of dialects gave rise to *wave theory* as alternative to family tree model\n",
    "\n",
    "<div>\n",
    "    <img src=\"_img/wave_theory.svg\", width=\"700\", align=\"center\">\n",
    "</div>"
   ]
  },
  {
   "cell_type": "markdown",
   "id": "fcfaefb2",
   "metadata": {
    "slideshow": {
     "slide_type": "slide"
    }
   },
   "source": [
    "## Wave model\n",
    "\n",
    "- innovations arise spontaneously at one location\n",
    "- spread to neighboring locations like a wave\n",
    "- interfer with the waves of other innovations\n",
    "\n",
    "## Modern view\n",
    "\n",
    "- both family tree model and wave model are true to some degree\n",
    "- computational/statisticial modeling of familiy tree model is much more advanced than for the wave model\n",
    "- modeling of wave model depends on spatial statistics"
   ]
  },
  {
   "cell_type": "markdown",
   "id": "cd78051c",
   "metadata": {
    "slideshow": {
     "slide_type": "slide"
    }
   },
   "source": [
    "# Plan for the course\n",
    "\n",
    "1. Geocomputation in R\n",
    "    - representing geographical objects (points, polygons etc.) as R objects\n",
    "    - plotting\n",
    "    - coordinate systems and conversion between them\n",
    "    - map making (including [2D projects of earth surface](https://en.wikipedia.org/wiki/Map_projection))\n",
    "2. exploratory spatial analysis\n",
    "    - visualization\n",
    "    - simple tests for spatial patterns\n",
    "3. spatial statistics\n",
    "    - areal models\n",
    "    - point-level models"
   ]
  },
  {
   "cell_type": "markdown",
   "id": "f2f73bf7",
   "metadata": {
    "slideshow": {
     "slide_type": "slide"
    }
   },
   "source": [
    "## Areal models\n",
    "\n",
    "<div>\n",
    "    <img src=\"_img/neighborhood_graph.svg\">\n",
    "</div>\n",
    "\n",
    "- basic idea: proerties of a datapoint depends on state of neighboring points"
   ]
  },
  {
   "cell_type": "markdown",
   "id": "58a3ef61",
   "metadata": {
    "slideshow": {
     "slide_type": "slide"
    }
   },
   "source": [
    "## Point-level models\n",
    "\n",
    "- model predicts **continuous** value for each point in space\n",
    "- model parameters are fitted to data\n",
    "\n",
    "<div>\n",
    "    <img src=\"_img/gaussian_process.svg\">\n",
    "</div>"
   ]
  },
  {
   "cell_type": "markdown",
   "id": "d720cf8c",
   "metadata": {
    "slideshow": {
     "slide_type": "slide"
    }
   },
   "source": [
    "(from Banerjee, Carlin & Gelfand 2015, Hierarchical Modeling and Analysis for Spatial Data)\n",
    "<div>\n",
    "    <img src=\"_img/banerjee.svg\", width=\"800;\"/>\n",
    "</div>"
   ]
  },
  {
   "cell_type": "markdown",
   "id": "943a9a89",
   "metadata": {
    "slideshow": {
     "slide_type": "slide"
    }
   },
   "source": [
    "# Geocomputation with R\n",
    "\n",
    "- Textbook [Lovelace, Nowosad & Muenchow, 2021, Geocomputation in R](https://geocompr.robinlovelace.net)\n",
    "- based on the `sf` and `terra` R packages\n",
    "- decision because you can do data preparation, visualiation and statistical analysis within the same script\n",
    "- to prepare for next week, install the folloing R packages\n",
    "    - `sf`\n",
    "    - `terra`\n",
    "    - `spData`\n",
    "    - `spDataLarge` (can be obtained from \"https://nowosad.r-universe.dev\")\n",
    "\n",
    "\n",
    "\n"
   ]
  },
  {
   "cell_type": "markdown",
   "id": "b454ee91",
   "metadata": {
    "slideshow": {
     "slide_type": "slide"
    }
   },
   "source": [
    "- simplest procedure:\n"
   ]
  },
  {
   "cell_type": "code",
   "execution_count": null,
   "id": "bc5816ac",
   "metadata": {
    "slideshow": {
     "slide_type": "-"
    }
   },
   "outputs": [
    {
     "name": "stderr",
     "output_type": "stream",
     "text": [
      "Downloading GitHub repo geocompr/geocompkg@HEAD\n",
      "\n"
     ]
    },
    {
     "name": "stdout",
     "output_type": "stream",
     "text": [
      "spDataLarge  (2.0.3        -> d1ef6d492...) [GitHub]\n",
      "terra        (44689acab... -> 16be3fc30...) [GitHub]\n",
      "tmap         (3.3-2        -> 1204aaa81...) [GitHub]\n",
      "glue         (1.5.1        -> 1.6.0       ) [CRAN]\n",
      "raster       (3.5-2        -> 3.5-9       ) [CRAN]\n",
      "sf           (1.0-3        -> 1.0-5       ) [CRAN]\n",
      "stars        (0.5-3        -> 0.5-5       ) [CRAN]\n",
      "BH           (1.75.0-0     -> 1.78.0-0    ) [CRAN]\n",
      "jsonvalidate (1.3.1        -> 1.3.2       ) [CRAN]\n",
      "crul         (1.1.0        -> 1.2.0       ) [CRAN]\n",
      "jqr          (1.2.1        -> 1.2.2       ) [CRAN]\n",
      "rgeos        (0.5-8        -> 0.5-9       ) [CRAN]\n",
      "openssl      (1.4.5        -> 1.4.6       ) [CRAN]\n",
      "uuid         (1.0-2        -> 1.0-3       ) [CRAN]\n",
      "knitr        (1.36         -> 1.37        ) [CRAN]\n",
      "usethis      (2.1.3        -> 2.1.5       ) [CRAN]\n",
      "tinytex      (0.35         -> 0.36        ) [CRAN]\n",
      "RcppArmad... (0.10.7.3.0   -> 0.10.7.5.0  ) [CRAN]\n",
      "rgdal        (1.5-27       -> 1.5-28      ) [CRAN]\n",
      "geometa      (0.6-4        -> 0.6-5       ) [CRAN]\n",
      "servr        (0.23         -> 0.24        ) [CRAN]\n",
      "stplanr      (bdfc63402... -> 6dd3b3d59...) [GitHub]\n",
      "ows4R        (0.1-5        -> 0.2         ) [CRAN]\n",
      "igraph       (1.2.9        -> 1.2.10      ) [CRAN]\n",
      "geodata      (0.3-2        -> 0.3-5       ) [CRAN]\n",
      "downlit      (0.2.1        -> 0.4.0       ) [CRAN]\n"
     ]
    },
    {
     "name": "stderr",
     "output_type": "stream",
     "text": [
      "Installing 22 packages: glue, raster, sf, stars, BH, jsonvalidate, crul, jqr, rgeos, openssl, uuid, knitr, usethis, tinytex, RcppArmadillo, rgdal, geometa, servr, ows4R, igraph, geodata, downlit\n",
      "\n",
      "Installing packages into ‘/home/gjaeger/R/x86_64-pc-linux-gnu-library/4.0’\n",
      "(as ‘lib’ is unspecified)\n",
      "\n"
     ]
    }
   ],
   "source": [
    "library(remotes)\n",
    "remotes::install_github(\"geocompr/geocompkg\")"
   ]
  }
 ],
 "metadata": {
  "celltoolbar": "Slideshow",
  "kernelspec": {
   "display_name": "R",
   "language": "R",
   "name": "ir"
  },
  "language_info": {
   "codemirror_mode": "r",
   "file_extension": ".r",
   "mimetype": "text/x-r-source",
   "name": "R",
   "pygments_lexer": "r",
   "version": "4.0.4"
  }
 },
 "nbformat": 4,
 "nbformat_minor": 5
}
