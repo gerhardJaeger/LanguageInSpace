{
 "cells": [
  {
   "cell_type": "markdown",
   "id": "635609ce",
   "metadata": {
    "slideshow": {
     "slide_type": "slide"
    }
   },
   "source": [
    "# Spatial autocorrelation\n",
    "\n",
    "(material taken from https://mgimond.github.io/Spatial/)\n",
    "\n",
    "\n",
    "Suppose we have a collection of points on the earth's surface, and each point has a (numerical) feature value. We may ask the question: \n",
    "\n",
    "**Is the distribution of feature values random, or is there spatial structure?**\n",
    "\n",
    "Technically, this amounts to the question whether the **spatial autocorrelation** is 0.\n",
    "\n",
    "\n",
    "### Temporal autocorrelation\n",
    "\n",
    "<img src=_img/Acf_new.svg width=500>\n",
    "(image from Wikipedia)"
   ]
  },
  {
   "cell_type": "markdown",
   "id": "36009d0a",
   "metadata": {
    "slideshow": {
     "slide_type": "slide"
    }
   },
   "source": [
    "<img src=_img/Random_maps.png>"
   ]
  },
  {
   "cell_type": "markdown",
   "id": "6b7f6449",
   "metadata": {
    "slideshow": {
     "slide_type": "slide"
    }
   },
   "source": [
    "**Moran's I** is a test statistic to test for spatial autocorrelation.\n",
    "\n",
    "Let $N$ be the number of points and $w_{ij}$ the *weight* (strength of influence) between points $i$ and $j$. $w_{ii} =0$ for all $i$. \n",
    "\n",
    "$$\n",
    "\\begin{aligned}\n",
    "I &= \\frac{N}{W} \\frac{\\sum_{i,j} w_{ij}(x_i-\\overline{x})(x_j-\\overline{x}}{\\sum_i(x_i-\\overline{x})^2}\n",
    "W &= \\sum_{ij} w_{ij}\\\\\n",
    "\\overline x &= \\frac{\\sum_i x_i}{N}\n",
    "\\end{aligned}\n",
    "$$\n",
    "\n",
    "$I$ ranges from $-1$ to $1$. The expected value in the absence of spatial autocorrelation is \n",
    "$$\n",
    "\\frac{-1}{N-1}\n",
    "$$"
   ]
  },
  {
   "cell_type": "code",
   "execution_count": null,
   "id": "033b541c",
   "metadata": {
    "slideshow": {
     "slide_type": "slide"
    }
   },
   "outputs": [],
   "source": [
    "library(sf)\n",
    "library(tidyverse)\n",
    "library(tmap)\n",
    "library(spdep)"
   ]
  },
  {
   "cell_type": "code",
   "execution_count": null,
   "id": "99538ccf",
   "metadata": {
    "slideshow": {
     "slide_type": "-"
    }
   },
   "outputs": [],
   "source": [
    "load(url(\"https://github.com/mgimond/Spatial/raw/main/Data/moransI.RData\"))\n"
   ]
  },
  {
   "cell_type": "code",
   "execution_count": null,
   "id": "738e934f",
   "metadata": {
    "scrolled": false
   },
   "outputs": [],
   "source": [
    "st_as_sf(s1)"
   ]
  },
  {
   "cell_type": "code",
   "execution_count": null,
   "id": "1dba9105",
   "metadata": {
    "slideshow": {
     "slide_type": "slide"
    }
   },
   "outputs": [],
   "source": [
    "library(tmap)\n",
    "tm_shape(s1) + tm_polygons(style=\"quantile\", col = \"Income\") +\n",
    "  tm_legend(outside = TRUE, text.size = .8) "
   ]
  },
  {
   "cell_type": "markdown",
   "id": "66b504be",
   "metadata": {
    "slideshow": {
     "slide_type": "slide"
    }
   },
   "source": [
    "First we create a neighborhood matrix."
   ]
  },
  {
   "cell_type": "code",
   "execution_count": null,
   "id": "1f14c1bb",
   "metadata": {},
   "outputs": [],
   "source": [
    "nb <- poly2nb(s1, queen=TRUE)\n",
    "nb"
   ]
  },
  {
   "cell_type": "code",
   "execution_count": null,
   "id": "4af654cc",
   "metadata": {},
   "outputs": [],
   "source": [
    "nb[[1]]\n"
   ]
  },
  {
   "cell_type": "code",
   "execution_count": null,
   "id": "1a6ea04d",
   "metadata": {},
   "outputs": [],
   "source": [
    "s1$NAME[1]"
   ]
  },
  {
   "cell_type": "code",
   "execution_count": null,
   "id": "f4c8469a",
   "metadata": {},
   "outputs": [],
   "source": [
    "s1$NAME[c(2,3,4,5)]"
   ]
  },
  {
   "cell_type": "markdown",
   "id": "e9252a08",
   "metadata": {
    "slideshow": {
     "slide_type": "slide"
    }
   },
   "source": [
    "Next we assign weights to the edges of the neighborhood graph. For simplicity's sake, we assume equal weight for each neighbor."
   ]
  },
  {
   "cell_type": "code",
   "execution_count": null,
   "id": "6b1abf5e",
   "metadata": {},
   "outputs": [],
   "source": [
    "lw <- nb2listw(nb, style=\"W\", zero.policy=TRUE)"
   ]
  },
  {
   "cell_type": "code",
   "execution_count": null,
   "id": "cf79962e",
   "metadata": {},
   "outputs": [],
   "source": [
    "lw$weights[1]"
   ]
  },
  {
   "cell_type": "markdown",
   "id": "13267572",
   "metadata": {},
   "source": [
    "Then we compute the weighted average of the incomes of neighboring counties for each county."
   ]
  },
  {
   "cell_type": "code",
   "execution_count": null,
   "id": "2e90f9c3",
   "metadata": {},
   "outputs": [],
   "source": [
    "Inc.lag <- lag.listw(lw, s1$Income)"
   ]
  },
  {
   "cell_type": "code",
   "execution_count": null,
   "id": "ff78a884",
   "metadata": {},
   "outputs": [],
   "source": [
    "Inc.lag"
   ]
  },
  {
   "cell_type": "code",
   "execution_count": null,
   "id": "107a2313",
   "metadata": {},
   "outputs": [],
   "source": [
    "st_as_sf(s1) %>%\n",
    "    st_drop_geometry() %>%\n",
    "    select(NAME, Income) %>%\n",
    "    mutate(Inc.lag = Inc.lag)"
   ]
  },
  {
   "cell_type": "markdown",
   "id": "33358763",
   "metadata": {
    "slideshow": {
     "slide_type": "slide"
    }
   },
   "source": [
    "Doing some exploratory data analysis:"
   ]
  },
  {
   "cell_type": "code",
   "execution_count": null,
   "id": "b6aa5c2d",
   "metadata": {},
   "outputs": [],
   "source": [
    "st_as_sf(s1) %>%\n",
    "    st_drop_geometry() %>%\n",
    "    select(NAME, Income) %>%\n",
    "    mutate(Inc.lag = Inc.lag) %>%\n",
    "    ggplot() +\n",
    "    geom_point(aes(x=Income, y=Inc.lag)) +\n",
    "    geom_smooth(aes(x=Income, y=Inc.lag), method=lm)"
   ]
  },
  {
   "cell_type": "markdown",
   "id": "66a12257",
   "metadata": {},
   "source": [
    "The slope of the regression line is Moran's I."
   ]
  },
  {
   "cell_type": "code",
   "execution_count": null,
   "id": "f6cd7221",
   "metadata": {},
   "outputs": [],
   "source": [
    "M <- lm(Inc.lag ~ s1$Income)\n",
    "coef(M)[2]"
   ]
  },
  {
   "cell_type": "markdown",
   "id": "b747880a",
   "metadata": {
    "slideshow": {
     "slide_type": "slide"
    }
   },
   "source": [
    "To assess significance, we can the a random permutation test."
   ]
  },
  {
   "cell_type": "code",
   "execution_count": null,
   "id": "acdefe84",
   "metadata": {},
   "outputs": [],
   "source": [
    "n <- 599L   # Define the number of simulations\n",
    "I.r <- vector(length=n)  # Create an empty vector\n",
    "\n",
    "for (i in 1:n){\n",
    "  # Randomly shuffle income values\n",
    "  x <- sample(s1$Income, replace=FALSE)\n",
    "  # Compute new set of lagged values\n",
    "  x.lag <- lag.listw(lw, x)\n",
    "  # Compute the regression slope and store its value\n",
    "  M.r    <- lm(x.lag ~ x)\n",
    "  I.r[i] <- coef(M.r)[2]\n",
    "}"
   ]
  },
  {
   "cell_type": "code",
   "execution_count": null,
   "id": "56cf9a7f",
   "metadata": {},
   "outputs": [],
   "source": [
    "data.frame(I.r = I.r) %>%\n",
    "    ggplot() +\n",
    "    geom_histogram(aes(x=I.r)) +\n",
    "    geom_vline(xintercept=coef(M)[2], col='red')"
   ]
  },
  {
   "cell_type": "markdown",
   "id": "41b94038",
   "metadata": {
    "slideshow": {
     "slide_type": "slide"
    }
   },
   "source": [
    "Pseudo-$p$-value:"
   ]
  },
  {
   "cell_type": "code",
   "execution_count": null,
   "id": "a27937c1",
   "metadata": {},
   "outputs": [],
   "source": [
    "mean(I.r > coef(M)[2])"
   ]
  },
  {
   "cell_type": "code",
   "execution_count": null,
   "id": "3648bfb5",
   "metadata": {},
   "outputs": [],
   "source": [
    "The Moran test does not use "
   ]
  },
  {
   "cell_type": "code",
   "execution_count": null,
   "id": "1bf56fa8",
   "metadata": {},
   "outputs": [],
   "source": [
    "moran.test(s1$Income,lw)"
   ]
  },
  {
   "cell_type": "markdown",
   "id": "4be6e8b1",
   "metadata": {
    "slideshow": {
     "slide_type": "slide"
    }
   },
   "source": [
    "There is also a version of Moran's I test using simulations:\n"
   ]
  },
  {
   "cell_type": "code",
   "execution_count": null,
   "id": "2cfea7cb",
   "metadata": {},
   "outputs": [],
   "source": [
    "MC<- moran.mc(s1$Income, lw, nsim=599)\n",
    "\n",
    "# View results (including p-value)\n",
    "MC"
   ]
  },
  {
   "cell_type": "code",
   "execution_count": null,
   "id": "1a3db8f2",
   "metadata": {},
   "outputs": [],
   "source": [
    "# Plot the distribution (note that this is a density plot instead of a histogram)\n",
    "plot(MC, main=\"\", las=1)"
   ]
  },
  {
   "cell_type": "code",
   "execution_count": null,
   "id": "13cbbe56",
   "metadata": {},
   "outputs": [],
   "source": []
  }
 ],
 "metadata": {
  "celltoolbar": "Slideshow",
  "kernelspec": {
   "display_name": "R",
   "language": "R",
   "name": "ir"
  },
  "language_info": {
   "codemirror_mode": "r",
   "file_extension": ".r",
   "mimetype": "text/x-r-source",
   "name": "R",
   "pygments_lexer": "r",
   "version": "4.0.4"
  }
 },
 "nbformat": 4,
 "nbformat_minor": 5
}
