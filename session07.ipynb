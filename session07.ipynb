{
 "cells": [
  {
   "cell_type": "markdown",
   "id": "a7fc510b",
   "metadata": {
    "slideshow": {
     "slide_type": "slide"
    }
   },
   "source": [
    "# Language in Space\n",
    "\n",
    "## Session 07: Vector data operations\n",
    "\n",
    "### Gerhard Jäger\n",
    "\n",
    "December 9, 2021\n"
   ]
  },
  {
   "cell_type": "code",
   "execution_count": null,
   "id": "8b1710dc",
   "metadata": {
    "slideshow": {
     "slide_type": "skip"
    }
   },
   "outputs": [],
   "source": [
    "options(repr.plot.width=12, repr.plot.height=9)\n"
   ]
  },
  {
   "cell_type": "code",
   "execution_count": null,
   "id": "2f4b935b",
   "metadata": {
    "slideshow": {
     "slide_type": "slide"
    }
   },
   "outputs": [],
   "source": [
    "library(tidyverse)\n",
    "library(sf)\n",
    "library(spData)\n"
   ]
  },
  {
   "cell_type": "markdown",
   "id": "a86a7e04",
   "metadata": {
    "slideshow": {
     "slide_type": "slide"
    }
   },
   "source": [
    "## Spatial data operations\n",
    "\n",
    "When working with spatial data sets, we want to use the spatial information for various data processing tasks. \n",
    "\n",
    "### Examples\n",
    "\n",
    "- Join a tibble with polygon geometries to a tibble with point geometries such that each polygon is joined with each point within its area.\n",
    "\n",
    "- When summarizing observations with polygon geometries, assign the union of the geometries to the aggregated observations.\n",
    "\n",
    "- Find all observations that are within 100 km distance of a given point.\n",
    "\n",
    "- Form the intersection of polygons (e.g., to crop a map).\n",
    "\n",
    "- Change the shape and location of geometries, e.g. shifting, scaling, mirroring or rotating them.\n",
    "\n"
   ]
  },
  {
   "cell_type": "markdown",
   "id": "7ded2f9e",
   "metadata": {
    "slideshow": {
     "slide_type": "slide"
    }
   },
   "source": [
    "### Topological relations\n",
    "\n",
    "Topological relations are relations between geometric objects that remain constant under continuous transformations like shifting, scaling, rotating or deforming.\n",
    "\n",
    "\n",
    "**Example**"
   ]
  },
  {
   "cell_type": "code",
   "execution_count": null,
   "id": "300d2b6a",
   "metadata": {},
   "outputs": [],
   "source": [
    "# create a polygon\n",
    "a_poly = st_polygon(list(rbind(c(-1, -1), c(1, -1), c(1, 1), c(-1, -1))))\n",
    "a = st_sfc(a_poly)\n",
    "\n",
    "# create a second polygon\n",
    "\n",
    "b_poly = st_polygon(list(rbind(c(0.1, -1), c(0.1, 0), c(.9, 0), c(.9, -1), c(.1, -1))))\n",
    "b = st_sfc(b_poly)\n",
    "\n",
    "# create a line\n",
    "l_line = st_linestring(x = matrix(c(-1, -1, -0.5, 1), ncol = 2))\n",
    "l = st_sfc(l_line)\n",
    "# create points\n",
    "p_matrix = matrix(c(0.5, 1, -1, 0, 0, 1, 0.5, 1), ncol = 2)\n",
    "p_multi = st_multipoint(x = p_matrix)\n",
    "p = st_cast(st_sfc(p_multi), \"POINT\")\n",
    "\n",
    "exampleGeometries <- st_sf(\n",
    "    names = c(\"a\", \"b\", \"l\", \"p1\", \"p2\", \"p3\", \"p4\"),\n",
    "    type = c(\"polygon\", \"polygon\", \"line\", \"point\", \"point\", \"point\", \"point\"),\n",
    "    c(a, b, l, p)\n",
    ")\n",
    "exampleGeometries"
   ]
  },
  {
   "cell_type": "code",
   "execution_count": null,
   "id": "93aa06b8",
   "metadata": {
    "slideshow": {
     "slide_type": "slide"
    }
   },
   "outputs": [],
   "source": [
    "exampleGeometries %>%\n",
    "    ggplot() +\n",
    "    theme_bw() +\n",
    "    geom_sf(aes(col=names), alpha=0.5, size=4) +\n",
    "    geom_sf_label(aes(label=names), size=5, nudge_x=.1)  \n"
   ]
  },
  {
   "cell_type": "markdown",
   "id": "ef2fed5d",
   "metadata": {
    "slideshow": {
     "slide_type": "slide"
    }
   },
   "source": [
    "Which points intersect with the large polygon?"
   ]
  },
  {
   "cell_type": "code",
   "execution_count": null,
   "id": "534faea4",
   "metadata": {},
   "outputs": [],
   "source": [
    "st_intersects(p, a, sparse=F)"
   ]
  },
  {
   "cell_type": "markdown",
   "id": "fc9dc766",
   "metadata": {},
   "source": [
    "Note that the result for `p2` is `TRUE`, even though the point is at the boundary of the polygon."
   ]
  },
  {
   "cell_type": "markdown",
   "id": "e5b3725e",
   "metadata": {
    "slideshow": {
     "slide_type": "slide"
    }
   },
   "source": [
    "The two polygons of course also intersect."
   ]
  },
  {
   "cell_type": "code",
   "execution_count": null,
   "id": "1da6ff56",
   "metadata": {},
   "outputs": [],
   "source": [
    "st_intersects(b, a, sparse=F)"
   ]
  },
  {
   "cell_type": "markdown",
   "id": "e80381b5",
   "metadata": {
    "slideshow": {
     "slide_type": "slide"
    }
   },
   "source": [
    "The opposite of `sp_intersects` is `sp_disjoint`."
   ]
  },
  {
   "cell_type": "code",
   "execution_count": null,
   "id": "e9f36fc0",
   "metadata": {},
   "outputs": [],
   "source": [
    "st_disjoint(p, a, sparse = F)\n"
   ]
  },
  {
   "cell_type": "markdown",
   "id": "1c6521cb",
   "metadata": {
    "slideshow": {
     "slide_type": "slide"
    }
   },
   "source": [
    "`st_within` returns `TRUE` only in case of complete inclusion. (NB: This is not a topological relation.)"
   ]
  },
  {
   "cell_type": "code",
   "execution_count": null,
   "id": "46f892df",
   "metadata": {},
   "outputs": [],
   "source": [
    "st_within(p, a, sparse=F)"
   ]
  },
  {
   "cell_type": "code",
   "execution_count": null,
   "id": "cd041607",
   "metadata": {},
   "outputs": [],
   "source": [
    "st_within(p, b, sparse=F)"
   ]
  },
  {
   "cell_type": "markdown",
   "id": "9d8cc584",
   "metadata": {
    "slideshow": {
     "slide_type": "slide"
    }
   },
   "source": [
    "`st_touches` is true if a point or line or border of a polygon includes the other object."
   ]
  },
  {
   "cell_type": "code",
   "execution_count": null,
   "id": "33e81a0b",
   "metadata": {},
   "outputs": [],
   "source": [
    "st_touches(p, a, sparse=F)"
   ]
  },
  {
   "cell_type": "markdown",
   "id": "7de4ed9c",
   "metadata": {
    "slideshow": {
     "slide_type": "slide"
    }
   },
   "source": [
    "`st_is_within_distance` does what its name says."
   ]
  },
  {
   "cell_type": "code",
   "execution_count": null,
   "id": "c4d7fa0f",
   "metadata": {},
   "outputs": [],
   "source": [
    "st_is_within_distance(p, a, dist = 0.9, sparse=F)"
   ]
  },
  {
   "cell_type": "markdown",
   "id": "d4faaa9c",
   "metadata": {
    "slideshow": {
     "slide_type": "slide"
    }
   },
   "source": [
    "## Geometric operations on vector data\n",
    "\n",
    "Geometric operations create geometric objects out of geometric objects. They include\n",
    "\n",
    "- simplification\n",
    "- finding centroids of areas\n",
    "- creating buffers around geometries\n",
    "- affine transformations (shifting, scaling, rotating)\n",
    "- clipping\n",
    "- geometric union\n",
    "- Voronoi tesselation"
   ]
  },
  {
   "cell_type": "markdown",
   "id": "c889b5aa",
   "metadata": {
    "slideshow": {
     "slide_type": "slide"
    }
   },
   "source": [
    "### Geometric simplification\n",
    "\n",
    "Linestrings and polygons may consists of many segments, not all of which are needed for a specific purpose.\n",
    "\n",
    "Consider this representation of the river Seine with tributuaries from `spData`:"
   ]
  },
  {
   "cell_type": "code",
   "execution_count": null,
   "id": "9e07976a",
   "metadata": {},
   "outputs": [],
   "source": [
    "seine"
   ]
  },
  {
   "cell_type": "code",
   "execution_count": null,
   "id": "fe6fc359",
   "metadata": {},
   "outputs": [],
   "source": [
    "seine %>%\n",
    "    st_geometry() %>%\n",
    "    st_cast(\"POINT\")"
   ]
  },
  {
   "cell_type": "code",
   "execution_count": null,
   "id": "2c46cec5",
   "metadata": {
    "slideshow": {
     "slide_type": "slide"
    }
   },
   "outputs": [],
   "source": [
    "seine %>%\n",
    "    ggplot() +\n",
    "    geom_sf()"
   ]
  },
  {
   "cell_type": "markdown",
   "id": "6f7223e8",
   "metadata": {
    "slideshow": {
     "slide_type": "slide"
    }
   },
   "source": [
    "With `st_simplify` we can remove points while preserving the overall shape. The `dTolarance` argument determines how strongly the shape is simplified."
   ]
  },
  {
   "cell_type": "code",
   "execution_count": null,
   "id": "65a6ad53",
   "metadata": {},
   "outputs": [],
   "source": [
    "dt = 2000 # units are metre\n",
    "seine %>%\n",
    "    st_simplify(dTolerance=dt) %>%\n",
    "    st_geometry() %>%\n",
    "    st_cast(\"POINT\") %>%\n",
    "    length()"
   ]
  },
  {
   "cell_type": "code",
   "execution_count": null,
   "id": "5d983edd",
   "metadata": {},
   "outputs": [],
   "source": [
    "seine %>%\n",
    "    st_simplify(dTolerance=dt) %>%\n",
    "    ggplot() +\n",
    "    geom_sf()"
   ]
  },
  {
   "cell_type": "markdown",
   "id": "085539ec",
   "metadata": {
    "slideshow": {
     "slide_type": "slide"
    }
   },
   "source": [
    "### Simplification of polygons\n",
    "\n",
    "`st_simplify` also applies to polygons. There is a catch though.\n",
    "\n"
   ]
  },
  {
   "cell_type": "code",
   "execution_count": null,
   "id": "8feac7fc",
   "metadata": {},
   "outputs": [],
   "source": [
    "us_states_wu <- us_states %>%\n",
    "    mutate(AREA = as.numeric(AREA))"
   ]
  },
  {
   "cell_type": "code",
   "execution_count": null,
   "id": "4d48903f",
   "metadata": {},
   "outputs": [],
   "source": [
    "us_states_wu %>%\n",
    "    ggplot() +\n",
    "    geom_sf()"
   ]
  },
  {
   "cell_type": "code",
   "execution_count": null,
   "id": "43507789",
   "metadata": {
    "slideshow": {
     "slide_type": "slide"
    }
   },
   "outputs": [],
   "source": [
    "\n",
    "us_states_wu %>%\n",
    "    st_simplify(dTolerance=100000) %>%\n",
    "    ggplot() +\n",
    "    geom_sf()"
   ]
  },
  {
   "cell_type": "markdown",
   "id": "0f7b7fe4",
   "metadata": {
    "slideshow": {
     "slide_type": "slide"
    }
   },
   "source": [
    "`st_simplify` simplifies each geometry individually, without regard of shared borders. \n",
    "\n",
    "An alternative is the function `ms_simplify` from the package `rmapshaper`."
   ]
  },
  {
   "cell_type": "code",
   "execution_count": null,
   "id": "bef6349f",
   "metadata": {},
   "outputs": [],
   "source": [
    "library(rmapshaper)\n",
    "us_states_wu %>%\n",
    "    ms_simplify(keep=0.01, keep_shapes=T) %>%\n",
    "    ggplot() +\n",
    "    geom_sf()\n"
   ]
  },
  {
   "cell_type": "markdown",
   "id": "5f4d8f94",
   "metadata": {
    "slideshow": {
     "slide_type": "slide"
    }
   },
   "source": [
    "## Centroids\n",
    "\n",
    "The *centroid* of an area is its middle point. There are multiple ways to define what \"middle\" means hear. In the simplest case, it is just the center of gravity.\n",
    "\n",
    "`st_centroid` computes the centroids of geometries."
   ]
  },
  {
   "cell_type": "code",
   "execution_count": null,
   "id": "eba233fa",
   "metadata": {},
   "outputs": [],
   "source": [
    "world %>%\n",
    "    st_centroid() %>%\n",
    "    ggplot() +\n",
    "    geom_sf() +\n",
    "    geom_sf(data=world, alpha=0)"
   ]
  },
  {
   "cell_type": "markdown",
   "id": "828bcd7e",
   "metadata": {
    "slideshow": {
     "slide_type": "slide"
    }
   },
   "source": [
    "The operation can also be applied to linestrings."
   ]
  },
  {
   "cell_type": "code",
   "execution_count": null,
   "id": "e1fb4170",
   "metadata": {},
   "outputs": [],
   "source": [
    "seine %>%\n",
    "    st_centroid() %>%\n",
    "    ggplot() +\n",
    "    geom_sf(col=\"red\", size=5) +\n",
    "    geom_sf(data=seine)"
   ]
  },
  {
   "cell_type": "markdown",
   "id": "c3109ba0",
   "metadata": {
    "slideshow": {
     "slide_type": "slide"
    }
   },
   "source": [
    "Here you see that the centroid of an object need not be included in it. We can enforce this with `st_point_on_surface`. \n",
    "\n",
    "This is also useful for multipolygons with several components, or concavely shaped polygons."
   ]
  },
  {
   "cell_type": "code",
   "execution_count": null,
   "id": "14c0b794",
   "metadata": {},
   "outputs": [],
   "source": [
    "seine %>%\n",
    "    st_point_on_surface() %>%\n",
    "    ggplot() +\n",
    "    geom_sf(col=\"red\", size=5) +\n",
    "    geom_sf(data=seine)"
   ]
  },
  {
   "cell_type": "markdown",
   "id": "db662fcd",
   "metadata": {
    "slideshow": {
     "slide_type": "slide"
    }
   },
   "source": [
    "## Buffers\n",
    "\n",
    "A spatial *buffer* around a geometry is the area of points within a certain distance of this geometry. It is always a (multi)polygon."
   ]
  },
  {
   "cell_type": "code",
   "execution_count": null,
   "id": "4c869810",
   "metadata": {},
   "outputs": [],
   "source": [
    "seine"
   ]
  },
  {
   "cell_type": "code",
   "execution_count": null,
   "id": "6dc8f67a",
   "metadata": {},
   "outputs": [],
   "source": [
    "seine %>%\n",
    "    st_buffer(dist = 5000) %>%\n",
    "    ggplot() +\n",
    "    theme_bw() +\n",
    "    geom_sf(aes(fill=name), alpha=0.5) +\n",
    "    geom_sf(data=seine)"
   ]
  },
  {
   "cell_type": "code",
   "execution_count": null,
   "id": "0a37bd0f",
   "metadata": {
    "slideshow": {
     "slide_type": "slide"
    }
   },
   "outputs": [],
   "source": [
    "seine %>%\n",
    "    st_buffer(dist = 50000) %>%\n",
    "    ggplot() +\n",
    "    theme_bw() +\n",
    "    geom_sf(aes(fill=name), alpha=0.5) +\n",
    "    geom_sf(data=seine)"
   ]
  },
  {
   "cell_type": "markdown",
   "id": "e8217604",
   "metadata": {
    "slideshow": {
     "slide_type": "slide"
    }
   },
   "source": [
    "## Affine transformations\n",
    "\n",
    "These are all geometric transformations that preserve straight lines and parallels. They are applicable to geometries and geometry columns. The implementation in `sf` is so that we can apply the same operations we would apply to vectors.\n"
   ]
  },
  {
   "cell_type": "markdown",
   "id": "13a14543",
   "metadata": {},
   "source": [
    "### Translation\n",
    "\n",
    "Simply add the translation vector to the geometries."
   ]
  },
  {
   "cell_type": "code",
   "execution_count": null,
   "id": "1566e8ec",
   "metadata": {
    "slideshow": {
     "slide_type": "slide"
    }
   },
   "outputs": [],
   "source": [
    "(exampleGeometries %>%\n",
    "    st_geometry() + c(1, 1.5)) %>% \n",
    "    ggplot() +\n",
    "    geom_sf(col='red') +\n",
    "    geom_sf(data=exampleGeometries, alpha=0.5)\n",
    "\n"
   ]
  },
  {
   "cell_type": "markdown",
   "id": "ed409330",
   "metadata": {
    "slideshow": {
     "slide_type": "slide"
    }
   },
   "source": [
    "### Mirroring\n",
    "\n",
    "Multiply the geometries with the matrix\n",
    "$$\n",
    "\\begin{pmatrix}\n",
    "-1 & 0\\\\\n",
    "0 & 1\n",
    "\\end{pmatrix}\n",
    "$$\n",
    "\n",
    "for mirroring along the $x$-axis, and \n",
    "\n",
    "$$\n",
    "\\begin{pmatrix}\n",
    "1 & 0\\\\\n",
    "0 & -1\n",
    "\\end{pmatrix}\n",
    "$$\n",
    "\n",
    "along the $y$-axis.\n"
   ]
  },
  {
   "cell_type": "code",
   "execution_count": null,
   "id": "5929cd02",
   "metadata": {},
   "outputs": [],
   "source": [
    "\n",
    "(exampleGeometries %>%\n",
    "    st_geometry() * matrix(c(-1, 0, 0, 1), nrow=2)) %>%\n",
    "    ggplot() +\n",
    "    geom_sf(col='red') +\n",
    "    geom_sf(data=exampleGeometries, alpha=0.5)"
   ]
  },
  {
   "cell_type": "code",
   "execution_count": null,
   "id": "8ae4096b",
   "metadata": {
    "slideshow": {
     "slide_type": "slide"
    }
   },
   "outputs": [],
   "source": [
    "(exampleGeometries %>%\n",
    "    st_geometry() * matrix(c(1, 0, 0, -1), nrow=2)) %>%\n",
    "    ggplot() +\n",
    "    geom_sf(col='red') +\n",
    "    geom_sf(data=exampleGeometries, alpha=0.5)"
   ]
  },
  {
   "cell_type": "markdown",
   "id": "37ba2da6",
   "metadata": {
    "slideshow": {
     "slide_type": "slide"
    }
   },
   "source": [
    "### Skewing\n",
    "\n",
    "Multiply the geometries with the matrix \n",
    "$$\n",
    "\\begin{pmatrix}\n",
    "u \\\\v\n",
    "\\end{pmatrix}\n",
    "$$\n",
    "\n",
    "where $u$ is the image of the vector $\\begin{pmatrix}1\\\\0\\end{pmatrix}$, and $v$ the image of $\\begin{pmatrix}0\\\\1\\end{pmatrix}$"
   ]
  },
  {
   "cell_type": "code",
   "execution_count": null,
   "id": "5c560492",
   "metadata": {},
   "outputs": [],
   "source": [
    "(skewMatrix <- matrix(\n",
    "    c(1, 1, 0, 1), nrow=2\n",
    "))"
   ]
  },
  {
   "cell_type": "code",
   "execution_count": null,
   "id": "18a41689",
   "metadata": {
    "slideshow": {
     "slide_type": "slide"
    }
   },
   "outputs": [],
   "source": [
    "(exampleGeometries %>%\n",
    "    st_geometry() * skewMatrix)  %>%\n",
    "    ggplot() +\n",
    "    geom_sf(col='red') +\n",
    "    geom_sf(data=exampleGeometries, alpha=0.5)"
   ]
  },
  {
   "cell_type": "markdown",
   "id": "d06a97af",
   "metadata": {
    "slideshow": {
     "slide_type": "slide"
    }
   },
   "source": [
    "### Rotation\n",
    "\n",
    "works as skewing, via matrix multiplication.\n",
    "\n",
    "#### Matrix for clock-wise rotation by 45°:"
   ]
  },
  {
   "cell_type": "code",
   "execution_count": null,
   "id": "92fb40f9",
   "metadata": {},
   "outputs": [],
   "source": [
    "(rotationMatrix <- matrix(\n",
    "    c(sqrt(.5), sqrt(.5), -sqrt(.5), sqrt(.5)),\n",
    "    nrow=2\n",
    "))"
   ]
  },
  {
   "cell_type": "code",
   "execution_count": null,
   "id": "158bda66",
   "metadata": {},
   "outputs": [],
   "source": [
    "(exampleGeometries %>%\n",
    "    st_geometry() * rotationMatrix)  %>%\n",
    "    ggplot() +\n",
    "    geom_sf(col='red') +\n",
    "    geom_sf(data=exampleGeometries, alpha=0.5)"
   ]
  },
  {
   "cell_type": "markdown",
   "id": "82908d54",
   "metadata": {
    "slideshow": {
     "slide_type": "slide"
    }
   },
   "source": [
    "### Scaling\n",
    "\n",
    "works by the same principle. In a scaling matrix, only the diagonal entries are non-zero. The upper left corner contains the horizontal scale factor, and the lower right corner contains the vertical scale factor."
   ]
  },
  {
   "cell_type": "code",
   "execution_count": null,
   "id": "e1663007",
   "metadata": {},
   "outputs": [],
   "source": [
    "(scaleMatrix <- matrix(\n",
    "    c(2, 0, 0, 0.5),\n",
    "    nrow=2\n",
    "))"
   ]
  },
  {
   "cell_type": "code",
   "execution_count": null,
   "id": "cfe767d8",
   "metadata": {},
   "outputs": [],
   "source": [
    "(exampleGeometries %>%\n",
    "    st_geometry() * scaleMatrix)  %>%\n",
    "    ggplot() +\n",
    "    geom_sf(col='red') +\n",
    "    geom_sf(data=exampleGeometries, alpha=0.5)"
   ]
  },
  {
   "cell_type": "markdown",
   "id": "2821ebbe",
   "metadata": {},
   "source": [
    "## Spatial set-theoretic operations.\n",
    "\n",
    "We can apply the standard set-theoretic operations to geometries"
   ]
  },
  {
   "cell_type": "code",
   "execution_count": null,
   "id": "74b168b5",
   "metadata": {},
   "outputs": [],
   "source": [
    "p1 = st_point(c(-1, 0))\n",
    "p2 = st_point(c(1, 0))\n",
    "\n",
    "circles <- st_sfc(p1, p2) %>%\n",
    "    st_buffer(dist = 1.5) %>%\n",
    "    st_sf()\n",
    "\n",
    "circles[[\"name\"]] <- c(\"A\", \"B\")"
   ]
  },
  {
   "cell_type": "code",
   "execution_count": null,
   "id": "77167859",
   "metadata": {},
   "outputs": [],
   "source": [
    "circles"
   ]
  },
  {
   "cell_type": "code",
   "execution_count": null,
   "id": "743fa9da",
   "metadata": {},
   "outputs": [],
   "source": [
    "circles %>%\n",
    "    ggplot() +\n",
    "    theme_bw() +\n",
    "    geom_sf(alpha = .5, aes(fill=name))"
   ]
  },
  {
   "cell_type": "code",
   "execution_count": null,
   "id": "445eda43",
   "metadata": {
    "slideshow": {
     "slide_type": "slide"
    }
   },
   "outputs": [],
   "source": [
    "circles[1,] %>%\n",
    "    st_intersection(circles[2,]) %>%\n",
    "    ggplot() +\n",
    "    theme_bw() +\n",
    "    geom_sf(fill='red') +\n",
    "    geom_sf(data=circles, alpha=.4)\n"
   ]
  },
  {
   "cell_type": "code",
   "execution_count": null,
   "id": "1740f285",
   "metadata": {
    "slideshow": {
     "slide_type": "slide"
    }
   },
   "outputs": [],
   "source": [
    "circles[1,] %>%\n",
    "    st_union(circles[2,]) %>%\n",
    "    ggplot() +\n",
    "    theme_bw() +\n",
    "    geom_sf(fill='red') \n"
   ]
  },
  {
   "cell_type": "code",
   "execution_count": null,
   "id": "7dfcc328",
   "metadata": {
    "slideshow": {
     "slide_type": "slide"
    }
   },
   "outputs": [],
   "source": [
    "circles[1,] %>%\n",
    "    st_sym_difference(circles[2,]) %>%\n",
    "    ggplot() +\n",
    "    theme_bw() +\n",
    "    geom_sf(fill='red') \n"
   ]
  },
  {
   "cell_type": "code",
   "execution_count": null,
   "id": "5793e40a",
   "metadata": {
    "slideshow": {
     "slide_type": "slide"
    }
   },
   "outputs": [],
   "source": [
    "circles[1,] %>%\n",
    "    st_difference(circles[2,]) %>%\n",
    "    ggplot() +\n",
    "    theme_bw() +\n",
    "    geom_sf(fill='red') "
   ]
  },
  {
   "cell_type": "markdown",
   "id": "9800089a",
   "metadata": {
    "slideshow": {
     "slide_type": "slide"
    }
   },
   "source": [
    "## Spatial union and data aggregation\n",
    "\n",
    "When we aggregate data via `group_by` and `summarize`, the geometries of the observations involved are combined via spatial union.\n",
    "\n",
    "**Example**"
   ]
  },
  {
   "cell_type": "code",
   "execution_count": null,
   "id": "459d72f9",
   "metadata": {},
   "outputs": [],
   "source": [
    "world %>%\n",
    "    group_by(continent) %>%\n",
    "    summarize(pop = sum(pop, na.rm=T))"
   ]
  },
  {
   "cell_type": "code",
   "execution_count": null,
   "id": "0bdf910e",
   "metadata": {
    "slideshow": {
     "slide_type": "slide"
    }
   },
   "outputs": [],
   "source": [
    "world %>%\n",
    "    group_by(continent) %>%\n",
    "    summarize(pop = sum(pop, na.rm=T)) %>%\n",
    "    ggplot() +\n",
    "    geom_sf(aes(fill=continent))"
   ]
  },
  {
   "cell_type": "markdown",
   "id": "2e734a33",
   "metadata": {
    "slideshow": {
     "slide_type": "slide"
    }
   },
   "source": [
    "## Spatial subsetting\n",
    "\n",
    "Spatial subsetting is the operation of selection a subset of observations from some dataset on the basis of its spatial relation to some object (or collection of objects).\n",
    "\n",
    "It can be seen as an extension of the `filter` operation from `tidyverse` with spatial filter criteria.\n",
    "\n",
    "**Example: High points in New Zealand**\n",
    "\n",
    "Consider the following two datasets from `spData`:"
   ]
  },
  {
   "cell_type": "code",
   "execution_count": null,
   "id": "e0696684",
   "metadata": {},
   "outputs": [],
   "source": [
    "nz %>%\n",
    "    slice_sample(n=10)"
   ]
  },
  {
   "cell_type": "code",
   "execution_count": null,
   "id": "2a891893",
   "metadata": {
    "slideshow": {
     "slide_type": "slide"
    }
   },
   "outputs": [],
   "source": [
    "nz_height %>%\n",
    "    slice_sample(n=10)"
   ]
  },
  {
   "cell_type": "code",
   "execution_count": null,
   "id": "821210b5",
   "metadata": {
    "slideshow": {
     "slide_type": "-"
    }
   },
   "outputs": [],
   "source": [
    "nz %>%\n",
    "    ggplot() +\n",
    "    geom_sf(aes(fill=Name), alpha=0.2) +\n",
    "    geom_sf(data=nz_height, col='red', pch=3)"
   ]
  },
  {
   "cell_type": "markdown",
   "id": "c8be075e",
   "metadata": {
    "slideshow": {
     "slide_type": "slide"
    }
   },
   "source": [
    "We want to find all high elevation points with the region *Canterbury*."
   ]
  },
  {
   "cell_type": "code",
   "execution_count": null,
   "id": "1d5445f9",
   "metadata": {},
   "outputs": [],
   "source": [
    "canterbury <- nz %>%\n",
    "    filter(Name == \"Canterbury\")\n",
    "canterbury"
   ]
  },
  {
   "cell_type": "code",
   "execution_count": null,
   "id": "00c05cb0",
   "metadata": {
    "scrolled": true
   },
   "outputs": [],
   "source": [
    "st_intersects(nz_height, canterbury, sparse=F)"
   ]
  },
  {
   "cell_type": "code",
   "execution_count": null,
   "id": "e09f3784",
   "metadata": {
    "slideshow": {
     "slide_type": "slide"
    }
   },
   "outputs": [],
   "source": [
    "canterbury_height <- nz_height %>%\n",
    "    filter(st_intersects(x=., y=canterbury, sparse=F))"
   ]
  },
  {
   "cell_type": "code",
   "execution_count": null,
   "id": "e7cf5158",
   "metadata": {},
   "outputs": [],
   "source": [
    "nz %>% \n",
    "    ggplot() +\n",
    "    geom_sf() +\n",
    "    geom_sf(data=canterbury_height, col='red', pch=3)"
   ]
  },
  {
   "cell_type": "markdown",
   "id": "850787eb",
   "metadata": {},
   "source": [
    "The same method can be applied with other geometric relations as well."
   ]
  },
  {
   "cell_type": "markdown",
   "id": "780bf010",
   "metadata": {
    "slideshow": {
     "slide_type": "slide"
    }
   },
   "source": [
    "## Interactive tasks\n",
    "\n",
    "Canterbury is the region of New Zealand containing most of the 100 highest points in the country. How many of these high points does the Canterbury region contain?\n"
   ]
  },
  {
   "cell_type": "markdown",
   "id": "c2712673",
   "metadata": {
    "slideshow": {
     "slide_type": "slide"
    }
   },
   "source": [
    "Which region has the second highest number of nz_height points in, and how many does it have?"
   ]
  },
  {
   "cell_type": "markdown",
   "id": "04a4fbab",
   "metadata": {
    "slideshow": {
     "slide_type": "slide"
    }
   },
   "source": [
    "Find the geographic centroid of New Zealand. How far is it from the geographic centroid of Canterbury?\n"
   ]
  },
  {
   "cell_type": "markdown",
   "id": "021755f6",
   "metadata": {
    "slideshow": {
     "slide_type": "slide"
    }
   },
   "source": [
    "Most world maps have a north-up orientation. A world map with a south-up orientation could be created by a reflection (one of the affine transformations not mentioned in this chapter) of the world object’s geometry. Write code to do so. Hint: you need to use a two-element vector for this transformation. Bonus: create an upside-down map of your country."
   ]
  },
  {
   "cell_type": "markdown",
   "id": "76e1529c",
   "metadata": {
    "slideshow": {
     "slide_type": "slide"
    }
   },
   "source": [
    "\n",
    "## Spatial joining\n",
    "\n",
    "In a regular join operation, two observations from the two tibbles involved are merged if they have the same value for the `by` column.\n",
    "\n",
    "In *spatial joining*, we combine observations from `sf` objects based on their geometries. It has to be specified which geometric relation holds between them. The default is `st_intersects`.\n",
    "\n",
    "### Example: Random points on a world map"
   ]
  },
  {
   "cell_type": "code",
   "execution_count": null,
   "id": "0a4487f5",
   "metadata": {},
   "outputs": [],
   "source": [
    "# bounding box of 'world'\n",
    "\n",
    "(bb_world = st_bbox(world))"
   ]
  },
  {
   "cell_type": "code",
   "execution_count": null,
   "id": "a812563d",
   "metadata": {},
   "outputs": [],
   "source": [
    "random_df = tibble(\n",
    "  x = runif(n = 10, min = bb_world[1], max = bb_world[3]),\n",
    "  y = runif(n = 10, min = bb_world[2], max = bb_world[4])\n",
    ")\n",
    "random_df"
   ]
  },
  {
   "cell_type": "code",
   "execution_count": null,
   "id": "03beda85",
   "metadata": {
    "slideshow": {
     "slide_type": "slide"
    }
   },
   "outputs": [],
   "source": [
    "random_points = random_df %>% \n",
    "  st_as_sf(coords = c(\"x\", \"y\")) %>% # set coordinates\n",
    "  st_set_crs(4326) # set geographic CRS\n",
    "\n",
    "random_points\n",
    " "
   ]
  },
  {
   "cell_type": "code",
   "execution_count": null,
   "id": "0d8bf911",
   "metadata": {
    "slideshow": {
     "slide_type": "slide"
    }
   },
   "outputs": [],
   "source": [
    "world %>% \n",
    "    ggplot() +\n",
    "    geom_sf() +\n",
    "    geom_sf(data=random_points, color='red', size=3)\n"
   ]
  },
  {
   "cell_type": "code",
   "execution_count": null,
   "id": "1f48503a",
   "metadata": {
    "slideshow": {
     "slide_type": "slide"
    }
   },
   "outputs": [],
   "source": [
    "random_points %>%\n",
    "    st_join(world) \n"
   ]
  },
  {
   "cell_type": "code",
   "execution_count": null,
   "id": "1184f7c3",
   "metadata": {},
   "outputs": [],
   "source": [
    "countries_with_point <- random_points %>%\n",
    "    st_join(world, left=F) %>%\n",
    "    pull(iso_a2)\n",
    "\n",
    "countries_with_point"
   ]
  },
  {
   "cell_type": "code",
   "execution_count": null,
   "id": "3786fd0d",
   "metadata": {
    "slideshow": {
     "slide_type": "slide"
    }
   },
   "outputs": [],
   "source": [
    "world %>% \n",
    "    mutate(has_point = iso_a2 %in% countries_with_point) %>%\n",
    "    ggplot() +\n",
    "    geom_sf(aes(fill=has_point)) +\n",
    "    geom_sf(data=random_points, size=4)\n"
   ]
  },
  {
   "cell_type": "markdown",
   "id": "09cf72d6",
   "metadata": {
    "slideshow": {
     "slide_type": "slide"
    }
   },
   "source": [
    "## Spatial joining with non-overlapping data\n",
    "\n",
    "Sometimes one wants to spatially join data where the spatial information is not identical but overlapping (e.g., due to measurement errors or different precision levels).\n",
    "\n",
    "Consider the following two datasets from `spData`:"
   ]
  },
  {
   "cell_type": "code",
   "execution_count": null,
   "id": "77568015",
   "metadata": {
    "scrolled": true
   },
   "outputs": [],
   "source": [
    "cycle_hire %>% \n",
    "    slice_sample(n=10)"
   ]
  },
  {
   "cell_type": "code",
   "execution_count": null,
   "id": "4cbedcf8",
   "metadata": {},
   "outputs": [],
   "source": [
    "cycle_hire_osm %>%\n",
    "    slice_sample(n=10)"
   ]
  },
  {
   "cell_type": "markdown",
   "id": "808e9c22",
   "metadata": {
    "slideshow": {
     "slide_type": "slide"
    }
   },
   "source": [
    "Check compatibility:"
   ]
  },
  {
   "cell_type": "code",
   "execution_count": null,
   "id": "2c41776a",
   "metadata": {
    "slideshow": {
     "slide_type": "-"
    }
   },
   "outputs": [],
   "source": [
    "cycle_hire %>%\n",
    "    st_crs()"
   ]
  },
  {
   "cell_type": "code",
   "execution_count": null,
   "id": "031e6eea",
   "metadata": {},
   "outputs": [],
   "source": [
    "cycle_hire_osm %>%\n",
    "    st_crs()"
   ]
  },
  {
   "cell_type": "code",
   "execution_count": null,
   "id": "daff9743",
   "metadata": {
    "slideshow": {
     "slide_type": "slide"
    }
   },
   "outputs": [],
   "source": [
    "t1 <- cycle_hire %>%\n",
    "    select(geometry) %>%\n",
    "    mutate(source=\"cycle_hire\")\n",
    "\n",
    "t2 <- cycle_hire_osm %>%\n",
    "    select(geometry) %>%\n",
    "    mutate(source=\"cycle_hire_osm\")\n",
    "\n",
    "t1 %>%\n",
    "    rbind(t2) %>%\n",
    "    ggplot() +\n",
    "    geom_sf(aes(col=source))"
   ]
  },
  {
   "cell_type": "code",
   "execution_count": null,
   "id": "ed03c8b8",
   "metadata": {
    "slideshow": {
     "slide_type": "slide"
    }
   },
   "outputs": [],
   "source": [
    "t1 %>% \n",
    "    st_join(t2, left=F)"
   ]
  },
  {
   "cell_type": "markdown",
   "id": "5e5a1dfc",
   "metadata": {},
   "source": [
    "The points from the two datasets are disjoint.\n",
    "\n",
    "Suppose we want to add the `capacity` information from `cycle_hire_osm` to `cycle_hire`. We can do so by defining a threshold distance and then apply spatial joining.\n",
    "\n"
   ]
  },
  {
   "cell_type": "code",
   "execution_count": null,
   "id": "06d045a3",
   "metadata": {
    "slideshow": {
     "slide_type": "slide"
    }
   },
   "outputs": [],
   "source": [
    "cycle_hire_P = st_transform(cycle_hire, 27700)\n",
    "cycle_hire_osm_P = st_transform(cycle_hire_osm, 27700)\n",
    "\n",
    "\n",
    "cycle_hire_P %>%\n",
    "    st_crs()"
   ]
  },
  {
   "cell_type": "code",
   "execution_count": null,
   "id": "c3a448ce",
   "metadata": {
    "slideshow": {
     "slide_type": "slide"
    }
   },
   "outputs": [],
   "source": [
    "cycle_hire_P %>%\n",
    "    st_join(cycle_hire_osm_P, join = st_is_within_distance, dist = 20) %>%\n",
    "    group_by(id) %>%\n",
    "    summarize(capacity = mean(capacity, na.rm=T)) %>%\n",
    "    st_drop_geometry() %>%\n",
    "    inner_join(cycle_hire_P) %>%\n",
    "    slice_sample(n=20)"
   ]
  }
 ],
 "metadata": {
  "celltoolbar": "Slideshow",
  "kernelspec": {
   "display_name": "R",
   "language": "R",
   "name": "ir"
  },
  "language_info": {
   "codemirror_mode": "r",
   "file_extension": ".r",
   "mimetype": "text/x-r-source",
   "name": "R",
   "pygments_lexer": "r",
   "version": "4.0.4"
  }
 },
 "nbformat": 4,
 "nbformat_minor": 5
}
