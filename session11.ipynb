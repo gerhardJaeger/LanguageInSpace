{
 "cells": [
  {
   "cell_type": "markdown",
   "id": "ad6d4c76",
   "metadata": {
    "slideshow": {
     "slide_type": "slide"
    }
   },
   "source": [
    "# Language in Space\n",
    "\n",
    "## Session 10: Spatial autocorrelation and Moran's I\n",
    "\n",
    "### Gerhard Jäger\n",
    "\n",
    "January 20, 2022\n"
   ]
  },
  {
   "cell_type": "code",
   "execution_count": null,
   "id": "3271db98",
   "metadata": {
    "slideshow": {
     "slide_type": "skip"
    }
   },
   "outputs": [],
   "source": [
    "options(repr.plot.width=20, repr.plot.height=13)"
   ]
  },
  {
   "cell_type": "markdown",
   "id": "5c3ec9b1",
   "metadata": {
    "slideshow": {
     "slide_type": "slide"
    }
   },
   "source": [
    "### Recap homework\n",
    "\n",
    "sample solution"
   ]
  },
  {
   "cell_type": "code",
   "execution_count": null,
   "id": "3017ebfe",
   "metadata": {},
   "outputs": [],
   "source": [
    "library(tidyverse)\n",
    "library(tmap)\n",
    "library(sf)"
   ]
  },
  {
   "cell_type": "code",
   "execution_count": null,
   "id": "e6bbcf1b",
   "metadata": {},
   "outputs": [],
   "source": [
    "system(\"mkdir phoible\")"
   ]
  },
  {
   "cell_type": "code",
   "execution_count": null,
   "id": "f62c719c",
   "metadata": {},
   "outputs": [],
   "source": [
    "phoibleZip = \"phoible/phoible-v2.0.1.zip\"\n",
    "\n",
    "if(!file.exists(phoibleZip)) {\n",
    "    download.file(\n",
    "        \"https://zenodo.org/record/2677911/files/cldf-datasets/phoible-v2.0.1.zip\",\n",
    "        dest = phoibleZip\n",
    "    )\n",
    "}\n"
   ]
  },
  {
   "cell_type": "code",
   "execution_count": null,
   "id": "02b7130e",
   "metadata": {},
   "outputs": [],
   "source": [
    "unzip(phoibleZip, exdir=\"phoible\")"
   ]
  },
  {
   "cell_type": "code",
   "execution_count": null,
   "id": "520fff9b",
   "metadata": {
    "slideshow": {
     "slide_type": "slide"
    }
   },
   "outputs": [],
   "source": [
    "languages <- read_csv(\"phoible//cldf-datasets-phoible-f36deac/cldf/languages.csv\") %>%\n",
    "    drop_na() %>%\n",
    "    st_as_sf(coords=c(\"Longitude\", \"Latitude\"))\n",
    "st_crs(languages) <- 4326"
   ]
  },
  {
   "cell_type": "code",
   "execution_count": null,
   "id": "3cb6ac96",
   "metadata": {},
   "outputs": [],
   "source": [
    "languages %>%\n",
    "    slice_head(n=10)"
   ]
  },
  {
   "cell_type": "code",
   "execution_count": null,
   "id": "f07f1b42",
   "metadata": {
    "slideshow": {
     "slide_type": "slide"
    }
   },
   "outputs": [],
   "source": [
    "parameters <- read_csv(\"phoible//cldf-datasets-phoible-f36deac/cldf/parameters.csv\")\n",
    "parameters %>%\n",
    "    slice_head(n=10)"
   ]
  },
  {
   "cell_type": "code",
   "execution_count": null,
   "id": "042fe9cf",
   "metadata": {
    "slideshow": {
     "slide_type": "slide"
    }
   },
   "outputs": [],
   "source": [
    "values <- read_csv(\"phoible//cldf-datasets-phoible-f36deac/cldf/values.csv\")\n",
    "values %>%\n",
    "    slice_head(n=10)"
   ]
  },
  {
   "cell_type": "code",
   "execution_count": null,
   "id": "f05ed23d",
   "metadata": {
    "slideshow": {
     "slide_type": "slide"
    }
   },
   "outputs": [],
   "source": [
    "nSegments <- values %>%\n",
    "    group_by(Language_ID) %>%\n",
    "    summarise(nSegments = n()) %>%\n",
    "    arrange(desc(nSegments))\n",
    "nSegments %>%\n",
    "    slice_head(n=10)"
   ]
  },
  {
   "cell_type": "code",
   "execution_count": null,
   "id": "e881079e",
   "metadata": {
    "slideshow": {
     "slide_type": "skip"
    }
   },
   "outputs": [],
   "source": [
    "options(repr.plot.width=10, repr.plot.height=7)"
   ]
  },
  {
   "cell_type": "code",
   "execution_count": null,
   "id": "4ef9fb5f",
   "metadata": {},
   "outputs": [],
   "source": [
    "nSegments %>% \n",
    "    ggplot() +\n",
    "    geom_histogram(aes(x=nSegments)) +\n",
    "    scale_x_log10()"
   ]
  },
  {
   "cell_type": "code",
   "execution_count": null,
   "id": "81fb9563",
   "metadata": {
    "slideshow": {
     "slide_type": "slide"
    }
   },
   "outputs": [],
   "source": [
    "world.160e <- read_sf(\"data/world_160e.gpkg\")"
   ]
  },
  {
   "cell_type": "code",
   "execution_count": null,
   "id": "f4fa5be2",
   "metadata": {},
   "outputs": [],
   "source": [
    "bg.map <- world.160e %>% \n",
    "    st_transform(\"+proj=eqearth lon_0=160\") %>%\n",
    "    tm_shape() +\n",
    "    tm_fill()\n",
    "bg.map"
   ]
  },
  {
   "cell_type": "code",
   "execution_count": null,
   "id": "e7fdd1a4",
   "metadata": {
    "slideshow": {
     "slide_type": "slide"
    }
   },
   "outputs": [],
   "source": [
    "nSegments.sf <- languages %>%\n",
    "    transmute(Language_ID = ID) %>%\n",
    "    inner_join(nSegments)\n",
    "nSegments.sf %>%\n",
    "    slice_head(n=10)"
   ]
  },
  {
   "cell_type": "code",
   "execution_count": null,
   "id": "3173ea48",
   "metadata": {
    "slideshow": {
     "slide_type": "slide"
    }
   },
   "outputs": [],
   "source": [
    "tmap_options(bg.color = \"black\", legend.text.color = \"black\")\n",
    "\n",
    "\n",
    "solution <- bg.map +\n",
    "    nSegments.sf %>%\n",
    "    tm_shape() +\n",
    "    tm_symbols(\n",
    "        col=\"nSegments\",\n",
    "        style = \"quantile\",\n",
    "        title.col = \"Number of segments\",\n",
    "        size=0.1,\n",
    "        border.lwd=0.02\n",
    "    ) +\n",
    "    tm_layout(legend.outside=T, scale=1) \n",
    "solution"
   ]
  },
  {
   "cell_type": "markdown",
   "id": "635609ce",
   "metadata": {
    "slideshow": {
     "slide_type": "slide"
    }
   },
   "source": [
    "# Spatial autocorrelation\n",
    "\n",
    "(material taken from https://mgimond.github.io/Spatial/)\n",
    "\n",
    "\n",
    "Suppose we have a collection of points on the earth's surface, and each point has a (numerical) feature value. We may ask the question: \n",
    "\n",
    "**Is the distribution of feature values random, or is there spatial structure?**\n",
    "\n",
    "Technically, this amounts to the question whether the **spatial autocorrelation** is 0.\n",
    "\n",
    "\n",
    "### Temporal autocorrelation\n",
    "\n",
    "<img src=_img/Acf_new.svg width=500>\n",
    "(image from Wikipedia)"
   ]
  },
  {
   "cell_type": "markdown",
   "id": "36009d0a",
   "metadata": {
    "slideshow": {
     "slide_type": "slide"
    }
   },
   "source": [
    "<img src=_img/Random_maps.png>"
   ]
  },
  {
   "cell_type": "markdown",
   "id": "6b7f6449",
   "metadata": {
    "slideshow": {
     "slide_type": "-"
    }
   },
   "source": [
    "**Moran's I** is a test statistic to test for spatial autocorrelation.\n",
    "\n"
   ]
  },
  {
   "cell_type": "code",
   "execution_count": null,
   "id": "033b541c",
   "metadata": {
    "slideshow": {
     "slide_type": "slide"
    }
   },
   "outputs": [],
   "source": [
    "library(spdep)\n"
   ]
  },
  {
   "cell_type": "code",
   "execution_count": null,
   "id": "99538ccf",
   "metadata": {
    "slideshow": {
     "slide_type": "-"
    }
   },
   "outputs": [],
   "source": [
    "load(url(\"https://github.com/mgimond/Spatial/raw/main/Data/moransI.RData\"))\n"
   ]
  },
  {
   "cell_type": "code",
   "execution_count": null,
   "id": "738e934f",
   "metadata": {
    "scrolled": false
   },
   "outputs": [],
   "source": [
    "st_as_sf(s1)\n"
   ]
  },
  {
   "cell_type": "code",
   "execution_count": null,
   "id": "1dba9105",
   "metadata": {
    "slideshow": {
     "slide_type": "slide"
    }
   },
   "outputs": [],
   "source": [
    "tm_shape(s1) + \n",
    "    tm_polygons(style=\"quantile\", col = \"Income\") +\n",
    "    tm_legend(outside = TRUE, text.size = .8) "
   ]
  },
  {
   "cell_type": "markdown",
   "id": "66b504be",
   "metadata": {
    "slideshow": {
     "slide_type": "slide"
    }
   },
   "source": [
    "First we create a \"neighbor list\". Two regions are neighbors if they share a boundary. If we set the option `queen=TRUE`, even a shared point is sufficient."
   ]
  },
  {
   "cell_type": "code",
   "execution_count": null,
   "id": "1f14c1bb",
   "metadata": {},
   "outputs": [],
   "source": [
    "nbm <- poly2nb(s1, queen=TRUE)\n",
    "nbm"
   ]
  },
  {
   "cell_type": "code",
   "execution_count": null,
   "id": "ada20753",
   "metadata": {},
   "outputs": [],
   "source": [
    "plot(s1)\n",
    "plot.nb(nbm, s1, add=T, col='blue')"
   ]
  },
  {
   "cell_type": "markdown",
   "id": "9fc848ea",
   "metadata": {
    "slideshow": {
     "slide_type": "slide"
    }
   },
   "source": [
    "The corresponding adjacency matrix:"
   ]
  },
  {
   "cell_type": "code",
   "execution_count": null,
   "id": "4af654cc",
   "metadata": {},
   "outputs": [],
   "source": [
    "nmtx <- nb2mat(nbm)\n",
    "rownames(nmtx) <- colnames(nmtx) <- s1$NAME\n",
    "round(nmtx, 2)"
   ]
  },
  {
   "cell_type": "markdown",
   "id": "e9252a08",
   "metadata": {
    "slideshow": {
     "slide_type": "slide"
    }
   },
   "source": [
    "Next we assign weights to the edges of the neighborhood graph. For simplicity's sake, we assume equal weight for each neighbor."
   ]
  },
  {
   "cell_type": "code",
   "execution_count": null,
   "id": "6b1abf5e",
   "metadata": {},
   "outputs": [],
   "source": [
    "lw <- nb2listw(nbm, style=\"W\", zero.policy=TRUE)"
   ]
  },
  {
   "cell_type": "code",
   "execution_count": null,
   "id": "cf79962e",
   "metadata": {},
   "outputs": [],
   "source": [
    "lw$weights[1]"
   ]
  },
  {
   "cell_type": "markdown",
   "id": "13267572",
   "metadata": {},
   "source": [
    "Then we compute the weighted average of the incomes of neighboring counties for each county."
   ]
  },
  {
   "cell_type": "code",
   "execution_count": null,
   "id": "2e90f9c3",
   "metadata": {},
   "outputs": [],
   "source": [
    "Inc.lag <- lag.listw(lw, s1$Income)"
   ]
  },
  {
   "cell_type": "code",
   "execution_count": null,
   "id": "107a2313",
   "metadata": {},
   "outputs": [],
   "source": [
    "st_as_sf(s1) %>%\n",
    "    st_drop_geometry() %>%\n",
    "    select(NAME, Income) %>%\n",
    "    mutate(Inc.lag = Inc.lag)"
   ]
  },
  {
   "cell_type": "markdown",
   "id": "33358763",
   "metadata": {
    "slideshow": {
     "slide_type": "slide"
    }
   },
   "source": [
    "Doing some exploratory data analysis:"
   ]
  },
  {
   "cell_type": "code",
   "execution_count": null,
   "id": "b6aa5c2d",
   "metadata": {},
   "outputs": [],
   "source": [
    "st_as_sf(s1) %>%\n",
    "    st_drop_geometry() %>%\n",
    "    select(NAME, Income) %>%\n",
    "    mutate(Inc.lag = Inc.lag) %>%\n",
    "    ggplot() +\n",
    "    geom_point(aes(x=Income, y=Inc.lag)) +\n",
    "    geom_smooth(aes(x=Income, y=Inc.lag), method=lm)"
   ]
  },
  {
   "cell_type": "markdown",
   "id": "4ae87f3a",
   "metadata": {},
   "source": [
    "The slope of the regression line is Moran's I.\n"
   ]
  },
  {
   "cell_type": "markdown",
   "id": "66a12257",
   "metadata": {
    "slideshow": {
     "slide_type": "slide"
    }
   },
   "source": [
    "\n",
    "Spelling out the mathematics:\n",
    "\n",
    "Let $N$ be the number of points and $w_{ij}$ the *weight* (strength of influence) between points $i$ and $j$. $w_{ii} =0$ for all $i$. \n",
    "\n",
    "$$\n",
    "\\begin{aligned}\n",
    "I &= \\frac{N}{W} \\frac{\\sum_{i,j} w_{ij}(x_i-\\overline{x})(x_j-\\overline{x})}{\\sum_i(x_i-\\overline{x})^2}\\\\\n",
    "W &= \\sum_{ij} w_{ij}\\\\\n",
    "\\overline x &= \\frac{\\sum_i x_i}{N}\n",
    "\\end{aligned}\n",
    "$$\n",
    "\n",
    "$I$ ranges from $-1$ to $1$. The expected value in the absence of spatial autocorrelation is \n",
    "$\n",
    "\\frac{-1}{N-1}\n",
    "$"
   ]
  },
  {
   "cell_type": "code",
   "execution_count": null,
   "id": "f6cd7221",
   "metadata": {},
   "outputs": [],
   "source": [
    "M <- lm(Inc.lag ~ s1$Income)\n",
    "summary(M)"
   ]
  },
  {
   "cell_type": "code",
   "execution_count": null,
   "id": "f9fc827d",
   "metadata": {},
   "outputs": [],
   "source": [
    "coef(M)[2]"
   ]
  },
  {
   "cell_type": "markdown",
   "id": "b747880a",
   "metadata": {
    "slideshow": {
     "slide_type": "slide"
    }
   },
   "source": [
    "To assess significance, we can the a random permutation test."
   ]
  },
  {
   "cell_type": "code",
   "execution_count": null,
   "id": "acdefe84",
   "metadata": {},
   "outputs": [],
   "source": [
    "n <- 599L   # Define the number of simulations\n",
    "I.r <- vector(length=n)  # Create an empty vector\n",
    "\n",
    "for (i in 1:n){\n",
    "  # Randomly shuffle income values\n",
    "  x <- sample(s1$Income, replace=FALSE)\n",
    "  # Compute new set of lagged values\n",
    "  x.lag <- lag.listw(lw, x)\n",
    "  # Compute the regression slope and store its value\n",
    "  M.r    <- lm(x.lag ~ x)\n",
    "  I.r[i] <- coef(M.r)[2]\n",
    "}"
   ]
  },
  {
   "cell_type": "code",
   "execution_count": null,
   "id": "56cf9a7f",
   "metadata": {},
   "outputs": [],
   "source": [
    "data.frame(I.r = I.r) %>%\n",
    "    ggplot() +\n",
    "    geom_histogram(aes(x=I.r)) +\n",
    "    geom_vline(xintercept=coef(M)[2], col='red')\n"
   ]
  },
  {
   "cell_type": "markdown",
   "id": "41b94038",
   "metadata": {
    "slideshow": {
     "slide_type": "slide"
    }
   },
   "source": [
    "Pseudo-$p$-value:"
   ]
  },
  {
   "cell_type": "code",
   "execution_count": null,
   "id": "a27937c1",
   "metadata": {},
   "outputs": [],
   "source": [
    "mean(I.r > coef(M)[2])"
   ]
  },
  {
   "cell_type": "markdown",
   "id": "ebf28748",
   "metadata": {},
   "source": [
    "The Moran test does not use permutations but computes the $p$-value analytically."
   ]
  },
  {
   "cell_type": "code",
   "execution_count": null,
   "id": "1bf56fa8",
   "metadata": {},
   "outputs": [],
   "source": [
    "moran.test(s1$Income,lw)"
   ]
  },
  {
   "cell_type": "markdown",
   "id": "4be6e8b1",
   "metadata": {
    "slideshow": {
     "slide_type": "slide"
    }
   },
   "source": [
    "There is also a version of Moran's I test using simulations:\n"
   ]
  },
  {
   "cell_type": "code",
   "execution_count": null,
   "id": "2cfea7cb",
   "metadata": {},
   "outputs": [],
   "source": [
    "MC<- moran.mc(s1$Income, lw, nsim=599)\n",
    "\n",
    "# View results (including p-value)\n",
    "MC"
   ]
  },
  {
   "cell_type": "code",
   "execution_count": null,
   "id": "1a3db8f2",
   "metadata": {},
   "outputs": [],
   "source": [
    "# Plot the distribution (note that this is a density plot instead of a histogram)\n",
    "plot(MC, main=\"\", las=1)"
   ]
  },
  {
   "cell_type": "markdown",
   "id": "dcb7159c",
   "metadata": {
    "slideshow": {
     "slide_type": "slide"
    }
   },
   "source": [
    "## Application to German dialect data\n",
    "\n"
   ]
  },
  {
   "cell_type": "code",
   "execution_count": null,
   "id": "f2d2216c",
   "metadata": {},
   "outputs": [],
   "source": [
    "pad_voronoi <- read_sf(\"data/pad_voronoi.shp\")"
   ]
  },
  {
   "cell_type": "code",
   "execution_count": null,
   "id": "f54d9c59",
   "metadata": {},
   "outputs": [],
   "source": [
    "pad_voronoi %>%\n",
    "    ggplot() +\n",
    "    geom_sf(fill=pad_voronoi$col)"
   ]
  },
  {
   "cell_type": "code",
   "execution_count": null,
   "id": "92e4be72",
   "metadata": {},
   "outputs": [],
   "source": [
    "pad_voronoi %>%\n",
    "    ggplot() +\n",
    "    geom_sf(aes(fill=r)) +\n",
    "    scale_fill_distiller(palette = \"Spectral\")"
   ]
  },
  {
   "cell_type": "code",
   "execution_count": null,
   "id": "bde65ff4",
   "metadata": {
    "slideshow": {
     "slide_type": "slide"
    }
   },
   "outputs": [],
   "source": [
    "pad_voronoi %>%\n",
    "    ggplot() +\n",
    "    geom_sf(aes(fill=g)) +\n",
    "    scale_fill_distiller(palette = \"Spectral\")\n",
    "    \n"
   ]
  },
  {
   "cell_type": "code",
   "execution_count": null,
   "id": "590643fc",
   "metadata": {},
   "outputs": [],
   "source": [
    "pad_voronoi %>%\n",
    "    ggplot() +\n",
    "    geom_sf(aes(fill=b)) +\n",
    "scale_fill_distiller(palette = \"Spectral\")"
   ]
  },
  {
   "cell_type": "markdown",
   "id": "46c9ddeb",
   "metadata": {
    "slideshow": {
     "slide_type": "slide"
    }
   },
   "source": [
    "Just from eyeballing, it seems likely that the three MDS-dimensions have a strong spatial autocorrelation. Let us test this using Moran's I."
   ]
  },
  {
   "cell_type": "code",
   "execution_count": null,
   "id": "b6e70e31",
   "metadata": {},
   "outputs": [],
   "source": [
    "pad_nb <- poly2nb(pad_voronoi, queen=TRUE)"
   ]
  },
  {
   "cell_type": "code",
   "execution_count": null,
   "id": "dc944af2",
   "metadata": {},
   "outputs": [],
   "source": [
    "pad_nb"
   ]
  },
  {
   "cell_type": "code",
   "execution_count": null,
   "id": "1c8ad006",
   "metadata": {},
   "outputs": [],
   "source": [
    "pad_voronoi %>%\n",
    "    st_geometry() %>%\n",
    "    st_union() %>%\n",
    "    plot()\n",
    "plot(pad_nb, as(pad_voronoi, 'Spatial'), add=T)"
   ]
  },
  {
   "cell_type": "markdown",
   "id": "c7a93301",
   "metadata": {},
   "source": [
    "Side remark: The neighbor relation obtained from the Voronoi tesselation of a set of points is the [Delaunay triangulation](https://en.wikipedia.org/wiki/Delaunay_triangulation)."
   ]
  },
  {
   "cell_type": "code",
   "execution_count": null,
   "id": "4227a1af",
   "metadata": {},
   "outputs": [],
   "source": [
    "pad_lw <- nb2listw(pad_nb, style=\"W\", zero.policy = T)"
   ]
  },
  {
   "cell_type": "markdown",
   "id": "cf597330",
   "metadata": {
    "slideshow": {
     "slide_type": "slide"
    }
   },
   "source": [
    "### First dimension (\"r\")"
   ]
  },
  {
   "cell_type": "code",
   "execution_count": null,
   "id": "3e26a7a0",
   "metadata": {},
   "outputs": [],
   "source": [
    "moran.test(pad_voronoi$r, pad_lw)"
   ]
  },
  {
   "cell_type": "code",
   "execution_count": null,
   "id": "54850db3",
   "metadata": {},
   "outputs": [],
   "source": [
    "(pad_mc <- moran.mc(pad_voronoi$r, pad_lw, nsim=1000))"
   ]
  },
  {
   "cell_type": "code",
   "execution_count": null,
   "id": "4ee96f80",
   "metadata": {},
   "outputs": [],
   "source": [
    "plot(pad_mc)"
   ]
  },
  {
   "cell_type": "markdown",
   "id": "e5bf3cbb",
   "metadata": {
    "slideshow": {
     "slide_type": "slide"
    }
   },
   "source": [
    "### Second dimension (\"g\")"
   ]
  },
  {
   "cell_type": "code",
   "execution_count": null,
   "id": "e67f2620",
   "metadata": {},
   "outputs": [],
   "source": [
    "moran.test(pad_voronoi$g, pad_lw)"
   ]
  },
  {
   "cell_type": "code",
   "execution_count": null,
   "id": "28135c72",
   "metadata": {},
   "outputs": [],
   "source": [
    "(pad_mc <- moran.mc(pad_voronoi$g, pad_lw, nsim=1000))"
   ]
  },
  {
   "cell_type": "code",
   "execution_count": null,
   "id": "0fa0a1fa",
   "metadata": {},
   "outputs": [],
   "source": [
    "plot(pad_mc)"
   ]
  },
  {
   "cell_type": "markdown",
   "id": "12b6b6c5",
   "metadata": {
    "slideshow": {
     "slide_type": "slide"
    }
   },
   "source": [
    "### Third dimension (\"b\")"
   ]
  },
  {
   "cell_type": "code",
   "execution_count": null,
   "id": "33483333",
   "metadata": {},
   "outputs": [],
   "source": [
    "moran.test(pad_voronoi$b, pad_lw)"
   ]
  },
  {
   "cell_type": "code",
   "execution_count": null,
   "id": "1941c1f3",
   "metadata": {},
   "outputs": [],
   "source": [
    "(pad_mc <- moran.mc(pad_voronoi$b, pad_lw, nsim=1000))"
   ]
  },
  {
   "cell_type": "code",
   "execution_count": null,
   "id": "48196563",
   "metadata": {},
   "outputs": [],
   "source": [
    "plot(pad_mc)"
   ]
  },
  {
   "cell_type": "markdown",
   "id": "1e5ef6bd",
   "metadata": {
    "slideshow": {
     "slide_type": "slide"
    }
   },
   "source": [
    "### a look at the linear regression"
   ]
  },
  {
   "cell_type": "code",
   "execution_count": null,
   "id": "9596704e",
   "metadata": {
    "slideshow": {
     "slide_type": "-"
    }
   },
   "outputs": [],
   "source": [
    "r.lag = lag.listw(pad_lw, pad_voronoi$r)\n",
    "g.lag = lag.listw(pad_lw, pad_voronoi$g)\n",
    "b.lag = lag.listw(pad_lw, pad_voronoi$b)"
   ]
  },
  {
   "cell_type": "code",
   "execution_count": null,
   "id": "03fbe40f",
   "metadata": {},
   "outputs": [],
   "source": [
    "st_as_sf(pad_voronoi) %>%\n",
    "    st_drop_geometry() %>%\n",
    "    select(r) %>%\n",
    "    mutate(r.lag = r.lag) %>%\n",
    "    ggplot() +\n",
    "    geom_point(aes(x=r, y=r.lag)) +\n",
    "    geom_smooth(aes(x=r, y=r.lag), method=lm)"
   ]
  },
  {
   "cell_type": "code",
   "execution_count": null,
   "id": "f0f7553a",
   "metadata": {
    "slideshow": {
     "slide_type": "slide"
    }
   },
   "outputs": [],
   "source": [
    "st_as_sf(pad_voronoi) %>%\n",
    "    st_drop_geometry() %>%\n",
    "    select(g) %>%\n",
    "    mutate(g.lag = g.lag) %>%\n",
    "    ggplot() +\n",
    "    geom_point(aes(x=g, y=g.lag)) +\n",
    "    geom_smooth(aes(x=g, y=g.lag), method=lm)"
   ]
  },
  {
   "cell_type": "code",
   "execution_count": null,
   "id": "05f957fe",
   "metadata": {
    "slideshow": {
     "slide_type": "slide"
    }
   },
   "outputs": [],
   "source": [
    "st_as_sf(pad_voronoi) %>%\n",
    "    st_drop_geometry() %>%\n",
    "    select(b) %>%\n",
    "    mutate(b.lag = b.lag) %>%\n",
    "    ggplot() +\n",
    "    geom_point(aes(x=b, y=b.lag)) +\n",
    "    geom_smooth(aes(x=b, y=b.lag), method=lm)"
   ]
  },
  {
   "cell_type": "markdown",
   "id": "0abd636c",
   "metadata": {
    "slideshow": {
     "slide_type": "slide"
    }
   },
   "source": [
    "## Definitions of *neighborhood*\n",
    "\n",
    "The value of Moran's I (and many other things in geostatistics) depend on how *neighborhood* and *neighborhood weights* are defined. In the following we will explore various common options and their impact on Moran's I.\n",
    "\n",
    "Let us forget the Voronoi polygons for the time being and return to the original point data."
   ]
  },
  {
   "cell_type": "code",
   "execution_count": null,
   "id": "38059a5e",
   "metadata": {
    "scrolled": false
   },
   "outputs": [],
   "source": [
    "pad = read_csv(\"data/pad_mds.csv\")\n",
    "\n",
    "pad %>% slice_head(n=10)"
   ]
  },
  {
   "cell_type": "code",
   "execution_count": null,
   "id": "1595977d",
   "metadata": {
    "slideshow": {
     "slide_type": "slide"
    }
   },
   "outputs": [],
   "source": [
    "coo <- pad %>%\n",
    "    select(LONGITUDE, LATITUDE) %>%\n",
    "    as.matrix()"
   ]
  },
  {
   "cell_type": "code",
   "execution_count": null,
   "id": "0f30f3ba",
   "metadata": {},
   "outputs": [],
   "source": [
    "S.dist  <-  dnearneigh(coo, 0, 80, longlat=T) "
   ]
  },
  {
   "cell_type": "code",
   "execution_count": null,
   "id": "56c29ee7",
   "metadata": {},
   "outputs": [],
   "source": [
    "S.dist"
   ]
  },
  {
   "cell_type": "code",
   "execution_count": null,
   "id": "69662785",
   "metadata": {},
   "outputs": [],
   "source": [
    "pad_sf <- st_as_sf(pad, coords=c(\"LONGITUDE\", \"LATITUDE\"))"
   ]
  },
  {
   "cell_type": "code",
   "execution_count": null,
   "id": "b517c904",
   "metadata": {},
   "outputs": [],
   "source": [
    "pad_voronoi %>%\n",
    "    st_geometry() %>%\n",
    "    st_union() %>%\n",
    "    plot()\n",
    "plot.nb(S.dist, st_geometry(pad_sf), add=T)"
   ]
  },
  {
   "cell_type": "code",
   "execution_count": null,
   "id": "367bb028",
   "metadata": {
    "slideshow": {
     "slide_type": "slide"
    }
   },
   "outputs": [],
   "source": [
    "lw <- nb2listw(S.dist, style=\"W\",zero.policy=T) "
   ]
  },
  {
   "cell_type": "code",
   "execution_count": null,
   "id": "022acea2",
   "metadata": {},
   "outputs": [],
   "source": [
    "MI  <-  moran.mc(pad$r, lw, nsim=999,zero.policy=T) "
   ]
  },
  {
   "cell_type": "code",
   "execution_count": null,
   "id": "11fdc31a",
   "metadata": {},
   "outputs": [],
   "source": [
    "plot(MI, main=\"\", las=1) "
   ]
  },
  {
   "cell_type": "code",
   "execution_count": null,
   "id": "e147b620",
   "metadata": {},
   "outputs": [],
   "source": [
    "MI"
   ]
  },
  {
   "cell_type": "markdown",
   "id": "5f18cec6",
   "metadata": {
    "slideshow": {
     "slide_type": "slide"
    }
   },
   "source": [
    "## Spatial correlograms\n",
    "\n",
    "The choice of the distance threshold for neighborhood seems arbitrary. \n",
    "\n",
    "A **correlogram** computes Moran's I for different distance bins and plots them. This allows to assess the radius of effective spatial autocorrelation."
   ]
  },
  {
   "cell_type": "markdown",
   "id": "bb976556",
   "metadata": {},
   "source": [
    "First step: define a function that computes Moran's I for a given distance interval."
   ]
  },
  {
   "cell_type": "code",
   "execution_count": null,
   "id": "a8900a87",
   "metadata": {},
   "outputs": [],
   "source": [
    "dist2mi <- function(x, coo, lower, upper) {\n",
    "    S.dist  <-  dnearneigh(coo, lower, upper, longlat=T) \n",
    "    lw <- nb2listw(S.dist, style=\"W\",zero.policy=T) \n",
    "    return(moran.mc(x, lw, nsim=999,zero.policy=T))\n",
    "}"
   ]
  },
  {
   "cell_type": "code",
   "execution_count": null,
   "id": "3fff2703",
   "metadata": {},
   "outputs": [],
   "source": [
    "dist2mi(pad$r, coo, 0, 10)"
   ]
  },
  {
   "cell_type": "markdown",
   "id": "7f64a262",
   "metadata": {
    "slideshow": {
     "slide_type": "slide"
    }
   },
   "source": [
    "Second step: computer Moran's I for each bin."
   ]
  },
  {
   "cell_type": "code",
   "execution_count": null,
   "id": "bbad4021",
   "metadata": {},
   "outputs": [],
   "source": [
    "nBins <- 80\n",
    "binWidth <- 10\n",
    "binCenters <- binWidth*(1:nBins)-binWidth/2"
   ]
  },
  {
   "cell_type": "code",
   "execution_count": null,
   "id": "30a83808",
   "metadata": {},
   "outputs": [],
   "source": [
    "crlg.r <- c()\n",
    "for (i in 1:nBins) {\n",
    "    binCenter <- binCenters[i]\n",
    "    MI <- dist2mi(pad$r, coo, binCenter-5, binCenter+5)\n",
    "    mi <- as.numeric(MI$statistic)\n",
    "    signif <- MI$p.value < 0.05\n",
    "    crlg.r <- rbind(crlg.r, c(binCenter, mi, signif))\n",
    "}"
   ]
  },
  {
   "cell_type": "markdown",
   "id": "2448e1d8",
   "metadata": {
    "slideshow": {
     "slide_type": "slide"
    }
   },
   "source": [
    "Third step: convert the results into a tibble and plot them with `ggplot`. Significance of the Moran test is indicated by color."
   ]
  },
  {
   "cell_type": "code",
   "execution_count": null,
   "id": "7198863a",
   "metadata": {
    "scrolled": true
   },
   "outputs": [],
   "source": [
    "df.r <- tibble(data.frame(crlg.r))\n",
    "colnames(df.r) <- c(\"distance\", \"I\", \"significant\")\n",
    "df.r$significant <- as.character(df.r$significant)\n"
   ]
  },
  {
   "cell_type": "code",
   "execution_count": null,
   "id": "693ad37e",
   "metadata": {
    "slideshow": {
     "slide_type": "skip"
    }
   },
   "outputs": [],
   "source": [
    "library(repr)\n",
    "options(repr.plot.width=30, repr.plot.height=10)"
   ]
  },
  {
   "cell_type": "code",
   "execution_count": null,
   "id": "aedfcd56",
   "metadata": {
    "slideshow": {
     "slide_type": "-"
    }
   },
   "outputs": [],
   "source": [
    " df.r %>%\n",
    "    ggplot() +\n",
    "    geom_point(aes(x=distance, y=I, col=significant),size=8) +\n",
    "    geom_hline(yintercept = 0) +\n",
    "    theme(text=element_text(size=32,  family=\"Comic Sans MS\")) +\n",
    "    geom_smooth(aes(x=distance, y=I), method=\"gam\", se=F)\n"
   ]
  },
  {
   "cell_type": "markdown",
   "id": "7aafec32",
   "metadata": {
    "slideshow": {
     "slide_type": "slide"
    }
   },
   "source": [
    "Same procedure for the `b` and `g` variables:"
   ]
  },
  {
   "cell_type": "code",
   "execution_count": null,
   "id": "778f4c60",
   "metadata": {},
   "outputs": [],
   "source": [
    "crlg.g <- c()\n",
    "for (i in 1:nBins) {\n",
    "    binCenter <- binCenters[i]\n",
    "    MI <- dist2mi(pad$g, coo, binCenter-5, binCenter+5)\n",
    "    mi <- as.numeric(MI$statistic)\n",
    "    signif <- MI$p.value < 0.05\n",
    "    crlg.g <- rbind(crlg.g, c(binCenter, mi, signif))\n",
    "}\n",
    "df.g <- tibble(data.frame(crlg.g))\n",
    "colnames(df.g) <- c(\"distance\", \"I\", \"significant\")\n",
    "df.g$significant <- as.character(df.g$significant)\n",
    "df.g %>%\n",
    "    ggplot() +\n",
    "    geom_point(aes(x=distance, y=I, col=significant),size=8) +\n",
    "    geom_hline(yintercept = 0) +\n",
    "    theme(text=element_text(size=32,  family=\"Comic Sans MS\")) +\n",
    "    geom_smooth(aes(x=distance, y=I), method=\"gam\", se=F)\n"
   ]
  },
  {
   "cell_type": "code",
   "execution_count": null,
   "id": "260686a3",
   "metadata": {
    "slideshow": {
     "slide_type": "slide"
    }
   },
   "outputs": [],
   "source": [
    "crlg.b <- c()\n",
    "for (i in 1:nBins) {\n",
    "    binCenter <- binCenters[i]\n",
    "    MI <- dist2mi(pad$b, coo, binCenter-5, binCenter+5)\n",
    "    mi <- as.numeric(MI$statistic)\n",
    "    signif <- MI$p.value < 0.05\n",
    "    crlg.b <- rbind(crlg.b, c(binCenter, mi, signif))\n",
    "}\n",
    "df.b <- tibble(data.frame(crlg.b))\n",
    "colnames(df.b) <- c(\"distance\", \"I\", \"significant\")\n",
    "df.b$significant <- as.character(df.b$significant)\n",
    "df.b %>%\n",
    "    ggplot() +\n",
    "    geom_point(aes(x=distance, y=I, col=significant),size=8) +\n",
    "    geom_hline(yintercept = 0) +\n",
    "    theme(text=element_text(size=32,  family=\"Comic Sans MS\")) +\n",
    "    geom_smooth(aes(x=distance, y=I), method=\"gam\", se=F)\n",
    "\n"
   ]
  },
  {
   "cell_type": "markdown",
   "id": "e5904775",
   "metadata": {
    "slideshow": {
     "slide_type": "slide"
    }
   },
   "source": [
    "## Local Moran's I\n",
    "\n",
    "For the next topic, I will use the Delauney triangulation (i.e., the neihborhood relation derived from the Voronoi tesslation).\n",
    "\n",
    "Let us re-consider the linear regression that let to Moran's I. We can quantify for each observation how strongly it contributes to the regression coefficient.\n"
   ]
  },
  {
   "cell_type": "code",
   "execution_count": null,
   "id": "8c1f705b",
   "metadata": {},
   "outputs": [],
   "source": [
    "pad_nb <- poly2nb(pad_voronoi, queen=TRUE)\n",
    "pad_lw <- nb2listw(pad_nb, style=\"W\", zero.policy = T)"
   ]
  },
  {
   "cell_type": "code",
   "execution_count": null,
   "id": "f33754ac",
   "metadata": {},
   "outputs": [],
   "source": [
    "options(repr.plot.width=10, repr.plot.height=7)"
   ]
  },
  {
   "cell_type": "code",
   "execution_count": null,
   "id": "b4354086",
   "metadata": {},
   "outputs": [],
   "source": [
    "pad_voronoi %>% \n",
    "    ggplot() +\n",
    "    geom_point(aes(x=r, y=r.lag), size=5, col='white') +\n",
    "    geom_smooth(aes(x=r, y=r.lag), method='lm', se=F, col='blue') +\n",
    "    theme_dark()\n",
    "    \n",
    "\n"
   ]
  },
  {
   "cell_type": "markdown",
   "id": "e486e0ac",
   "metadata": {
    "slideshow": {
     "slide_type": "slide"
    }
   },
   "source": [
    "The formula for Moran's I is\n",
    "\n",
    "$$\n",
    "\\begin{aligned}\n",
    "I &= \\frac{N}{W} \\frac{\\sum_{i,j} w_{ij}(x_i-\\overline{x})(x_j-\\overline{x})}{\\sum_i(x_i-\\overline{x})^2}\\\\\n",
    "& = \\frac{N}{W\\sum_j(x_j-\\overline{x})^2} \\sum_i (x_i-\\overline{x})\\sum_j w_{ij}(x_j-\\overline{x})\n",
    "\\end{aligned}\n",
    "$$\n",
    "\n",
    "Leaving out the first $\\sum$ gives us the individual contributions of each data point.\n",
    "\n",
    "$$\n",
    "\\begin{aligned}\n",
    "I_i &\\propto (x_i-\\overline{x})\\sum_j w_{ij}(x_j-\\overline{x})\n",
    "\\end{aligned}\n",
    "$$"
   ]
  },
  {
   "cell_type": "code",
   "execution_count": null,
   "id": "e912f37e",
   "metadata": {
    "slideshow": {
     "slide_type": "slide"
    }
   },
   "outputs": [],
   "source": [
    "pad_voronoi %>% \n",
    "    mutate(li.r = localmoran(pad_voronoi$r, pad_lw)[,1]) %>%\n",
    "    ggplot() +\n",
    "    geom_point(aes(x=r, y=r.lag, col=li.r), size=5) +\n",
    "    scale_color_gradient2(\n",
    "    low = \"grey\", \n",
    "    mid = \"white\", \n",
    "    high = \"brown\", \n",
    "    midpoint = 1\n",
    "    ) + \n",
    "    geom_hline(yintercept = mean(pad_voronoi$r), col='lightgrey')+\n",
    "    geom_vline(xintercept = mean(pad_voronoi$r), col='lightgrey')+\n",
    "    geom_smooth(aes(x=r, y=r.lag), method='lm', se=F, col='blue') +\n",
    "    theme_dark()\n",
    "    \n",
    "\n"
   ]
  },
  {
   "cell_type": "markdown",
   "id": "92a4f31b",
   "metadata": {
    "slideshow": {
     "slide_type": "slide"
    }
   },
   "source": [
    "*Local Moran's I* is a measure of the degree to which the value at a point can be predicted from its neighborhood."
   ]
  },
  {
   "cell_type": "code",
   "execution_count": null,
   "id": "1b7217b2",
   "metadata": {},
   "outputs": [],
   "source": [
    "pad_voronoi %>% \n",
    "    mutate(li.r = localmoran(pad_voronoi$r, pad_lw)[,1]) %>%\n",
    "    ggplot() +\n",
    "    geom_sf(aes(fill=li.r)) +\n",
    "    scale_fill_gradient2(\n",
    "    low = \"grey\", \n",
    "    mid = \"white\", \n",
    "    high = \"brown\", \n",
    "    midpoint = 1\n",
    "  ) +theme_dark()\n",
    "    \n",
    "\n"
   ]
  },
  {
   "cell_type": "markdown",
   "id": "29e4fbe9",
   "metadata": {
    "slideshow": {
     "slide_type": "slide"
    }
   },
   "source": [
    "The same procedure for the other two dimensions."
   ]
  },
  {
   "cell_type": "code",
   "execution_count": null,
   "id": "d557dcd6",
   "metadata": {
    "scrolled": false
   },
   "outputs": [],
   "source": [
    "pad_voronoi %>% \n",
    "    mutate(li.g = localmoran(pad_voronoi$g, pad_lw)[,1]) %>%\n",
    "    ggplot() +\n",
    "    geom_sf(aes(fill=li.g)) +\n",
    "    scale_fill_gradient2(\n",
    "    low = \"grey\", \n",
    "    mid = \"white\", \n",
    "    high = \"brown\", \n",
    "    midpoint = 1\n",
    "  ) + theme_dark()\n",
    "    \n",
    "\n"
   ]
  },
  {
   "cell_type": "code",
   "execution_count": null,
   "id": "21a5f334",
   "metadata": {
    "slideshow": {
     "slide_type": "slide"
    }
   },
   "outputs": [],
   "source": [
    "pad_voronoi %>% \n",
    "    mutate(li.b = localmoran(pad_voronoi$b, pad_lw)[,1]) %>%\n",
    "    ggplot() +\n",
    "    geom_sf(aes(fill=li.b)) +\n",
    "    scale_fill_gradient2(\n",
    "    low = \"grey\", \n",
    "    mid = \"white\", \n",
    "    high = \"brown\", \n",
    "    midpoint = 2\n",
    "  ) + theme_dark()\n",
    "    "
   ]
  },
  {
   "cell_type": "code",
   "execution_count": null,
   "id": "5ceb1237",
   "metadata": {},
   "outputs": [],
   "source": []
  }
 ],
 "metadata": {
  "celltoolbar": "Slideshow",
  "kernelspec": {
   "display_name": "R",
   "language": "R",
   "name": "ir"
  },
  "language_info": {
   "codemirror_mode": "r",
   "file_extension": ".r",
   "mimetype": "text/x-r-source",
   "name": "R",
   "pygments_lexer": "r",
   "version": "3.6.3"
  }
 },
 "nbformat": 4,
 "nbformat_minor": 5
}
