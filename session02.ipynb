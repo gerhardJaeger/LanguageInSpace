{
 "cells": [
  {
   "cell_type": "markdown",
   "id": "139eb727",
   "metadata": {
    "slideshow": {
     "slide_type": "slide"
    }
   },
   "source": [
    "# Language in Space\n",
    "\n",
    "## Session 02: Phonetic Atlas of Germany; Tidyverse\n",
    "\n",
    "### Gerhard Jäger\n",
    "\n",
    "November 4, 2021\n"
   ]
  },
  {
   "cell_type": "markdown",
   "id": "cd27606a",
   "metadata": {
    "slideshow": {
     "slide_type": "slide"
    }
   },
   "source": [
    "# Project for the next weeks\n",
    "\n",
    "- Hans Goebl, John Nerbonne and co-workers developd concept of *dialectometry* $-$ as opposed to dialectology\n",
    "- traditional dialectology: trace geographical distribution of individual features\n",
    "- dialeco**metry**:\n",
    "    - aggregate many features\n",
    "    - get access to broad-scale patterns\n",
    "- overview article is [here](https://onlinelibrary.wiley.com/doi/full/10.1111/j.1749-818X.2008.00114.x)"
   ]
  },
  {
   "cell_type": "markdown",
   "id": "56ce78e3",
   "metadata": {
    "slideshow": {
     "slide_type": "slide"
    }
   },
   "source": [
    "## Example: German dialects\n",
    "\n",
    "- very broad pattern of North-South division\n",
    "- individual features are full of exceptions\n",
    "\n",
    "\n",
    "\n",
    "<div>\n",
    "    <img src=\"_img/nerbonne_01.png\", width=\"1000\", align=\"center\">\n",
    "</div>\n"
   ]
  },
  {
   "cell_type": "markdown",
   "id": "eb177fef",
   "metadata": {
    "slideshow": {
     "slide_type": "slide"
    }
   },
   "source": [
    "- individual features represent broader **sound laws**\n",
    "- here: part of the [*High-German Consonant Shift*](https://en.wikipedia.org/wiki/High_German_consonant_shift)\n",
    "- individual instances have different distribution\n",
    "\n",
    "<div>\n",
    "    <img src=\"_img/nerbonne_02.png\", width=\"1000\", align=\"center\">\n",
    "</div>\n"
   ]
  },
  {
   "cell_type": "markdown",
   "id": "edeacbe9",
   "metadata": {
    "slideshow": {
     "slide_type": "slide"
    }
   },
   "source": [
    "\n",
    "\n",
    "<div>\n",
    "    <img src=\"_img/nerbonne_03.png\", width=\"1000\", align=\"center\">\n",
    "</div>"
   ]
  },
  {
   "cell_type": "markdown",
   "id": "ddfa8167",
   "metadata": {
    "slideshow": {
     "slide_type": "slide"
    }
   },
   "source": [
    "## Two, three, many features\n",
    "\n",
    "\n",
    "<div>\n",
    "    <img src=\"_img/nerbonne_04.png\", width=\"500\", align=\"center\">\n",
    "</div>"
   ]
  },
  {
   "cell_type": "markdown",
   "id": "d3b2cbd6",
   "metadata": {
    "slideshow": {
     "slide_type": "slide"
    }
   },
   "source": [
    "## Data aggregation\n",
    "\n",
    "- taking all available features into consideration leads to high-dimensional data\n",
    "- **dimensionality reduction** makes patterns visible\n",
    "- colors can, e.g., be used to visualize dimensions\n",
    "- our goal for the next weeks: reproduce analysis and visualization of the following map from [Nerbonne (2009)](https://onlinelibrary.wiley.com/doi/full/10.1111/j.1749-818X.2008.00114.x)\n",
    "\n",
    "<div>\n",
    "    <img src=\"_img/nerbonne_05.png\", width=\"500\", align=\"center\">\n",
    "</div>"
   ]
  },
  {
   "cell_type": "markdown",
   "id": "2987b2a5",
   "metadata": {
    "slideshow": {
     "slide_type": "slide"
    }
   },
   "source": [
    "# Data: The Phonetic Atlas of Germany\n",
    "\n",
    "- based on sound recordings in 186 places in Germany, since the 1960s\n",
    "- transcribed in IPA\n",
    "- part of the activities of the *Marburger Sprachatlas*\n",
    "- reported in Göschel, Joachim (1992): Das Forschungsinstitut für Deutsche Sprache \"Deutscher Sprachatlas\" 1988-1992. Wissenschaftlicher Bericht. Marburg: Forschungsinstitut für Deutsche Sprache\n",
    "- information taken from *John Nerbonne and Christine Siedle, 2005, Dialektklassifikation auf der Grundlage aggregierter Ausspracheunterschiede, Zeitschrift für Dialektologie und Linguistik, 72(2), 129-147*\n"
   ]
  },
  {
   "cell_type": "markdown",
   "id": "23ddc540",
   "metadata": {
    "slideshow": {
     "slide_type": "slide"
    }
   },
   "source": [
    "- locations:\n",
    "\n",
    "\n",
    "<div>\n",
    "    <img src=\"_img/nerbonneSiedle01.png\", width=\"500\", align=\"center\">\n",
    "</div>"
   ]
  },
  {
   "cell_type": "markdown",
   "id": "d36cc023",
   "metadata": {
    "slideshow": {
     "slide_type": "slide"
    }
   },
   "source": [
    "- words recorded\n",
    "\n",
    "\n",
    "<div>\n",
    "    <img src=\"_img/nerbonneSiedle02.png\", width=\"500\", align=\"center\">\n",
    "</div>"
   ]
  },
  {
   "cell_type": "markdown",
   "id": "ef45f155",
   "metadata": {
    "slideshow": {
     "slide_type": "slide"
    }
   },
   "source": [
    "## Data\n",
    "\n",
    "- data are available from [Github](https://github.com/cysouw/PAD)\n",
    "- preprocessed by Michael Cysouw, Frank Nagel and Jelena Prokic\n",
    "- to all *cognate sets*, they applied *Multiple Sequence Alignemnt*\n",
    "- implementation used: [LingPy](https://lingpy.org/) by Johann-Mattis List et al.\n",
    "- underlying theory is explained [here](https://unitc-my.sharepoint.com/:b:/g/personal/nwsja01_cloud_uni-tuebingen_de/EYAnWEuEdqlEkXs9wwcAcDABhEf3TyVbLcbT6VX7x54BAA?e=0JnTcl)"
   ]
  },
  {
   "cell_type": "markdown",
   "id": "d3f9e200",
   "metadata": {
    "slideshow": {
     "slide_type": "slide"
    }
   },
   "source": [
    "## our goals\n",
    "\n",
    "\n",
    "- data processing\n",
    "    - extract features\n",
    "    - apply dimensionality reduction\n",
    "    - assign featue values to each location\n",
    "\n",
    "- data visualization\n",
    "    - divide the area of Germany into suitable regions\n",
    "    - compute the aggregate feature values for each location\n",
    "    - apply dimensionality reduction to 3d (one dimension for each primary color)\n",
    "    - plot the map"
   ]
  },
  {
   "cell_type": "markdown",
   "id": "d24396f1",
   "metadata": {
    "slideshow": {
     "slide_type": "slide"
    }
   },
   "source": [
    "# Preprocessing data with *Tidyverse*\n",
    "\n",
    "- *Tidyverse* is a collection of R-packages\n",
    "- contain huge functionality for data science\n",
    "- requires a certain discipline\n",
    "\n",
    "## Getting the PAD metadata into tidy form\n",
    "\n",
    "1. download the PAD data from Github\n",
    "2. install tidyverse (`install.packages(\"tidyverse\")`)"
   ]
  }
 ],
 "metadata": {
  "celltoolbar": "Slideshow",
  "kernelspec": {
   "display_name": "R",
   "language": "R",
   "name": "ir"
  },
  "language_info": {
   "codemirror_mode": "r",
   "file_extension": ".r",
   "mimetype": "text/x-r-source",
   "name": "R",
   "pygments_lexer": "r",
   "version": "4.0.4"
  }
 },
 "nbformat": 4,
 "nbformat_minor": 5
}
