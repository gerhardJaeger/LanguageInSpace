{
 "cells": [
  {
   "cell_type": "markdown",
   "id": "a7fc510b",
   "metadata": {
    "slideshow": {
     "slide_type": "slide"
    }
   },
   "source": [
    "# Language in Space\n",
    "\n",
    "## Session 10: static and dynamic maps\n",
    "\n",
    "### Gerhard Jäger\n",
    "\n",
    "January 13, 2022\n"
   ]
  },
  {
   "cell_type": "code",
   "execution_count": null,
   "id": "8b1710dc",
   "metadata": {
    "slideshow": {
     "slide_type": "skip"
    }
   },
   "outputs": [],
   "source": [
    "options(repr.plot.width=20, repr.plot.height=13)\n",
    "\n"
   ]
  },
  {
   "cell_type": "markdown",
   "id": "0194395f",
   "metadata": {
    "slideshow": {
     "slide_type": "slide"
    }
   },
   "source": [
    "## Constructing a Pacific-centered world map"
   ]
  },
  {
   "cell_type": "code",
   "execution_count": null,
   "id": "99e5e7fa",
   "metadata": {},
   "outputs": [],
   "source": [
    "library(tidyverse)\n",
    "library(sf)\n",
    "library(spData)\n",
    "library(tmap)\n",
    "library(RColorBrewer)\n",
    "library(leaflet)"
   ]
  },
  {
   "cell_type": "markdown",
   "id": "3b6b2fdc",
   "metadata": {
    "slideshow": {
     "slide_type": "slide"
    }
   },
   "source": [
    "By default, world maps are shown with the Greenwich meridian at the center."
   ]
  },
  {
   "cell_type": "code",
   "execution_count": null,
   "id": "bd055d0c",
   "metadata": {},
   "outputs": [],
   "source": [
    "tm_shape(world) +\n",
    "    tm_fill(col=\"darkgrey\") +\n",
    "    tm_graticules(alpha=0.2) +\n",
    "    tm_layout(scale=3)"
   ]
  },
  {
   "cell_type": "markdown",
   "id": "efafd1f0",
   "metadata": {
    "slideshow": {
     "slide_type": "slide"
    }
   },
   "source": [
    "Different projections can be chosen with `st_transform` and a `proj4string`."
   ]
  },
  {
   "cell_type": "code",
   "execution_count": null,
   "id": "0a3e663c",
   "metadata": {},
   "outputs": [],
   "source": [
    "world %>%\n",
    "    st_transform(\"+proj=eqearth\") %>%\n",
    "    tm_shape() +\n",
    "    tm_fill(col=\"darkgrey\") +\n",
    "    tm_graticules(alpha=0.2) +\n",
    "    tm_layout(scale=3)"
   ]
  },
  {
   "cell_type": "markdown",
   "id": "d48f51d4",
   "metadata": {
    "slideshow": {
     "slide_type": "slide"
    }
   },
   "source": [
    "The central meridian of a projections can also modified via the `proj4string`, by altering the `lon_0` attribute:\n",
    "\n",
    "`\"+proj=eqearth lon_0=160\"`\n",
    "\n",
    "However, when we apply this, we get:"
   ]
  },
  {
   "cell_type": "code",
   "execution_count": null,
   "id": "eea1a8c8",
   "metadata": {
    "scrolled": false
   },
   "outputs": [],
   "source": [
    "world %>%\n",
    "    st_transform(\"+proj=eqearth lon_0=160\") %>%\n",
    "    tm_shape() +\n",
    "    tm_fill(col=\"darkgrey\") +\n",
    "    tm_graticules(alpha=0.2) +\n",
    "    tm_layout(scale=3) "
   ]
  },
  {
   "cell_type": "markdown",
   "id": "a84ada71",
   "metadata": {
    "slideshow": {
     "slide_type": "slide"
    }
   },
   "source": [
    "### Possible solution\n",
    "\n",
    "If 160° East are at the center, 20° West are the outer boundary. The polygons transcending this border have to be cut into an eastern and a western half.\n",
    "\n",
    "This means we have to divide the earth into **three** regions:\n",
    "- 0°-160° East\n",
    "- 160°-180° East\n",
    "- 180°-0° West\n",
    "\n",
    "First we have to make sure though that all geometries are interpreted as being on a plane (rather than on a sphere)."
   ]
  },
  {
   "cell_type": "code",
   "execution_count": null,
   "id": "b78edf6d",
   "metadata": {},
   "outputs": [],
   "source": [
    "sf_use_s2(FALSE)"
   ]
  },
  {
   "cell_type": "code",
   "execution_count": null,
   "id": "faee5e26",
   "metadata": {},
   "outputs": [],
   "source": [
    "world %>%\n",
    "    ggplot() +\n",
    "    geom_sf() +\n",
    "    geom_vline(xintercept=160, lwd=3, col='red') +\n",
    "    geom_vline(xintercept=-20, lwd=3, col='blue') "
   ]
  },
  {
   "cell_type": "code",
   "execution_count": null,
   "id": "f40da2d0",
   "metadata": {
    "slideshow": {
     "slide_type": "slide"
    }
   },
   "outputs": [],
   "source": [
    "(bb <- world %>% \n",
    "    st_bbox() %>% \n",
    "     c())\n"
   ]
  },
  {
   "cell_type": "code",
   "execution_count": null,
   "id": "0f4f5a46",
   "metadata": {},
   "outputs": [],
   "source": [
    "xmn = bb[1]\n",
    "xmx = bb[3]\n",
    "ymn = bb[2]\n",
    "ymx = bb[4]"
   ]
  },
  {
   "cell_type": "code",
   "execution_count": null,
   "id": "cac587be",
   "metadata": {
    "slideshow": {
     "slide_type": "-"
    }
   },
   "outputs": [],
   "source": [
    "middle_hemisphere <- rbind(\n",
    "  c(-20, ymn),\n",
    "  c(160, ymn),\n",
    "  c(160, ymx),\n",
    "  c(-20, ymx),\n",
    "  c(-20, ymn)\n",
    ") %>% list() %>%\n",
    "  st_polygon() %>%\n",
    "  st_sfc()\n",
    "\n"
   ]
  },
  {
   "cell_type": "code",
   "execution_count": null,
   "id": "8330f0d4",
   "metadata": {},
   "outputs": [],
   "source": [
    "fareast <- rbind(\n",
    "  c(160, ymn),\n",
    "  c(xmx, ymn),\n",
    "  c(xmx, ymx),\n",
    "  c(160, ymx),\n",
    "  c(160, ymn)\n",
    ") %>% list() %>%\n",
    "  st_polygon() %>%\n",
    "  st_sfc()\n"
   ]
  },
  {
   "cell_type": "code",
   "execution_count": null,
   "id": "b2651495",
   "metadata": {},
   "outputs": [],
   "source": [
    "western_hemisphere <- rbind(\n",
    "  c(-20, ymn),\n",
    "  c(xmn, ymn),\n",
    "  c(xmn, ymx),\n",
    "  c(-20, ymx),\n",
    "  c(-20, ymn)\n",
    ") %>% list() %>%\n",
    "  st_polygon() %>%\n",
    "  st_sfc()\n",
    "\n",
    "\n",
    "st_crs(middle_hemisphere) <- st_crs(western_hemisphere) <- st_crs(fareast) <- st_crs(world)"
   ]
  },
  {
   "cell_type": "code",
   "execution_count": null,
   "id": "53387b23",
   "metadata": {
    "slideshow": {
     "slide_type": "slide"
    }
   },
   "outputs": [],
   "source": [
    "world %>%\n",
    "    tm_shape() +\n",
    "    tm_fill() +\n",
    "    tm_shape(middle_hemisphere) +\n",
    "    tm_fill('red', alpha=0.2) +\n",
    "    tm_shape(fareast) +\n",
    "    tm_fill('green', alpha=0.2) +\n",
    "    tm_shape(western_hemisphere) +\n",
    "    tm_fill('blue', alpha=0.2)"
   ]
  },
  {
   "cell_type": "markdown",
   "id": "4598f691",
   "metadata": {
    "slideshow": {
     "slide_type": "slide"
    }
   },
   "source": [
    "Next we form the intersections of each region with all multipolygons in `world`."
   ]
  },
  {
   "cell_type": "code",
   "execution_count": null,
   "id": "9c717ad4",
   "metadata": {},
   "outputs": [],
   "source": [
    "world.m <- world %>%\n",
    "  st_intersection(middle_hemisphere)\n",
    "\n",
    "world.w <- world %>%\n",
    "  st_intersection(western_hemisphere)\n",
    "\n",
    "world.e <- world %>%\n",
    "  st_intersection(fareast)\n"
   ]
  },
  {
   "cell_type": "code",
   "execution_count": null,
   "id": "ca5386f4",
   "metadata": {
    "slideshow": {
     "slide_type": "slide"
    }
   },
   "outputs": [],
   "source": [
    "world.m %>%\n",
    "    filter(continent=='Antarctica') %>%\n",
    "    ggplot() + \n",
    "    geom_sf(fill='red') +\n",
    "    xlim(-180, 180) +\n",
    "    ylim(-90, 90)"
   ]
  },
  {
   "cell_type": "code",
   "execution_count": null,
   "id": "aa10cf52",
   "metadata": {
    "slideshow": {
     "slide_type": "slide"
    }
   },
   "outputs": [],
   "source": [
    "world.e %>%\n",
    "    filter(continent=='Antarctica') %>%\n",
    "    st_geometry()\n"
   ]
  },
  {
   "cell_type": "code",
   "execution_count": null,
   "id": "de025653",
   "metadata": {
    "slideshow": {
     "slide_type": "slide"
    }
   },
   "outputs": [],
   "source": [
    "world.e %>%\n",
    "    filter(continent=='Antarctica') %>%\n",
    "    ggplot() + \n",
    "    geom_sf(fill='green') +\n",
    "    xlim(-180, 180) +\n",
    "    ylim(-100, 90)"
   ]
  },
  {
   "cell_type": "code",
   "execution_count": null,
   "id": "75fd576e",
   "metadata": {
    "slideshow": {
     "slide_type": "slide"
    }
   },
   "outputs": [],
   "source": [
    "world.w %>%\n",
    "    filter(continent=='Antarctica') %>%\n",
    "    ggplot() + \n",
    "    geom_sf(fill='blue') +\n",
    "    xlim(-180, 180) +\n",
    "    ylim(-100, 90)"
   ]
  },
  {
   "cell_type": "markdown",
   "id": "88f5aeeb",
   "metadata": {
    "slideshow": {
     "slide_type": "slide"
    }
   },
   "source": [
    "Adding CRSs."
   ]
  },
  {
   "cell_type": "code",
   "execution_count": null,
   "id": "327dde41",
   "metadata": {},
   "outputs": [],
   "source": [
    "st_crs(world.e) <- st_crs(world.m) <- st_crs(world.w) <- 4326\n"
   ]
  },
  {
   "cell_type": "code",
   "execution_count": null,
   "id": "e6121f00",
   "metadata": {
    "slideshow": {
     "slide_type": "-"
    }
   },
   "outputs": [],
   "source": [
    "world.m %>%\n",
    "    st_geometry() %>%\n",
    "    st_transform(\"+proj=eqearth lon_0=160\") %>%\n",
    "    tm_shape() + tm_fill()"
   ]
  },
  {
   "cell_type": "code",
   "execution_count": null,
   "id": "8e9512c8",
   "metadata": {
    "slideshow": {
     "slide_type": "slide"
    }
   },
   "outputs": [],
   "source": [
    "world.w %>%\n",
    "    st_geometry() %>%\n",
    "    st_transform(\"+proj=eqearth lon_0=160\") %>%\n",
    "    tm_shape() + tm_fill()"
   ]
  },
  {
   "cell_type": "code",
   "execution_count": null,
   "id": "c8d3d01c",
   "metadata": {
    "slideshow": {
     "slide_type": "slide"
    }
   },
   "outputs": [],
   "source": [
    "world.e %>%\n",
    "    st_geometry() %>%\n",
    "    st_transform(\"+proj=eqearth lon_0=160\") %>%\n",
    "    tm_shape() + tm_fill()"
   ]
  },
  {
   "cell_type": "markdown",
   "id": "0706c334",
   "metadata": {
    "slideshow": {
     "slide_type": "slide"
    }
   },
   "source": [
    "Evidently the multipolygons in the western hemisphere extend too far to the east for re-projection."
   ]
  },
  {
   "cell_type": "code",
   "execution_count": null,
   "id": "c111cf83",
   "metadata": {},
   "outputs": [],
   "source": [
    "sf_use_s2(FALSE)\n",
    "lon.split = -20.01\n",
    "\n",
    "western_hemisphere <- rbind(\n",
    "  c(lon.split, ymn),\n",
    "  c(xmn, ymn),\n",
    "  c(xmn, ymx),\n",
    "  c(lon.split, ymx),\n",
    "  c(lon.split, ymn)\n",
    ") %>% list() %>%\n",
    "  st_polygon() %>%\n",
    "  st_sfc()\n",
    "\n",
    "\n",
    "st_crs(middle_hemisphere) <- st_crs(western_hemisphere) <- st_crs(fareast) <- st_crs(world)\n",
    "\n",
    "\n",
    "world.w <- world %>%\n",
    "  st_intersection(western_hemisphere)"
   ]
  },
  {
   "cell_type": "code",
   "execution_count": null,
   "id": "5f39a118",
   "metadata": {
    "slideshow": {
     "slide_type": "slide"
    }
   },
   "outputs": [],
   "source": [
    "world.w %>%\n",
    "    st_geometry() %>%\n",
    "    st_transform(\"+proj=eqearth lon_0=160\") %>%\n",
    "    tm_shape() + tm_fill()"
   ]
  },
  {
   "cell_type": "markdown",
   "id": "7d83e470",
   "metadata": {
    "slideshow": {
     "slide_type": "slide"
    }
   },
   "source": [
    "Next step: combining the three regions into one tibble."
   ]
  },
  {
   "cell_type": "code",
   "execution_count": null,
   "id": "0b900687",
   "metadata": {},
   "outputs": [],
   "source": [
    "world.w <- world.w %>%\n",
    "    mutate(region=\"west\")\n",
    "world.e <- world.e %>%\n",
    "    mutate(region=\"fareast\")\n",
    "world.m <- world.m %>%\n",
    "    mutate(region=\"middle\")\n",
    "    "
   ]
  },
  {
   "cell_type": "code",
   "execution_count": null,
   "id": "c412a107",
   "metadata": {},
   "outputs": [],
   "source": [
    "world.split <- rbind(\n",
    "    world.w,\n",
    "    world.e,\n",
    "    world.m\n",
    ")"
   ]
  },
  {
   "cell_type": "code",
   "execution_count": null,
   "id": "26fb69f1",
   "metadata": {},
   "outputs": [],
   "source": [
    "suppressMessages(\n",
    "world.split %>%\n",
    "    select(iso_a2) %>%\n",
    "    group_by(iso_a2) %>%\n",
    "    summarise() %>% \n",
    "    filter(iso_a2==\"AQ\") %>% \n",
    "    tm_shape() + tm_polygons() +\n",
    "    tm_graticules() \n",
    "    )"
   ]
  },
  {
   "cell_type": "code",
   "execution_count": null,
   "id": "ace75834",
   "metadata": {
    "slideshow": {
     "slide_type": "slide"
    }
   },
   "outputs": [],
   "source": [
    "world.m %>%\n",
    "    filter(continent=='Antarctica')"
   ]
  },
  {
   "cell_type": "markdown",
   "id": "efd88fff",
   "metadata": {},
   "source": [
    "`group_by`/`summarise` let us combine the pieces back together"
   ]
  },
  {
   "cell_type": "code",
   "execution_count": null,
   "id": "5fbf69db",
   "metadata": {},
   "outputs": [],
   "source": [
    "suppressMessages(\n",
    "    world.160e <- world.split %>%\n",
    "    select(iso_a2) %>%\n",
    "    group_by(iso_a2) %>%\n",
    "    summarise()\n",
    "    )"
   ]
  },
  {
   "cell_type": "markdown",
   "id": "c340d902",
   "metadata": {
    "slideshow": {
     "slide_type": "slide"
    }
   },
   "source": [
    "Now we have a tiny split at 20° West at all polygons transcending that line."
   ]
  },
  {
   "cell_type": "code",
   "execution_count": null,
   "id": "7294d90d",
   "metadata": {},
   "outputs": [],
   "source": [
    "world.160e %>%\n",
    "    filter(iso_a2 == \"AQ\") %>%\n",
    "    tm_shape() +\n",
    "    tm_polygons() +\n",
    "    tm_graticules()"
   ]
  },
  {
   "cell_type": "markdown",
   "id": "21aef184",
   "metadata": {
    "slideshow": {
     "slide_type": "slide"
    }
   },
   "source": [
    "This allows us to re-center the projection without distortions."
   ]
  },
  {
   "cell_type": "code",
   "execution_count": null,
   "id": "c9f57483",
   "metadata": {},
   "outputs": [],
   "source": [
    "world.160e %>%\n",
    "    st_transform(\"+proj=eqearth lon_0=160\") %>%\n",
    "    tm_shape() +\n",
    "    tm_fill(col=\"darkgrey\") +\n",
    "    tm_graticules(lwd=0.1) +\n",
    "    tm_layout(scale=3)"
   ]
  },
  {
   "cell_type": "markdown",
   "id": "c99fbbf1",
   "metadata": {
    "slideshow": {
     "slide_type": "slide"
    }
   },
   "source": [
    "Let us save this `sf` object for later usage."
   ]
  },
  {
   "cell_type": "code",
   "execution_count": null,
   "id": "41daa15f",
   "metadata": {},
   "outputs": [],
   "source": [
    "world.160e %>% write_sf(\"data/world_160e.gpkg\")"
   ]
  },
  {
   "cell_type": "markdown",
   "id": "efbb00f4",
   "metadata": {
    "slideshow": {
     "slide_type": "slide"
    }
   },
   "source": [
    "### Plotting the locations of WALS languages on this map\n",
    "\n"
   ]
  },
  {
   "cell_type": "code",
   "execution_count": null,
   "id": "ac77431b",
   "metadata": {
    "slideshow": {
     "slide_type": "-"
    }
   },
   "outputs": [],
   "source": [
    "walsLanguagesF = \"data/languages.csv\"\n",
    "\n",
    "if (!file.exists(walsLanguagesF)) {\n",
    "  download.file(\n",
    "    \"https://raw.githubusercontent.com/cldf-datasets/wals/master/cldf/languages.csv\",\n",
    "    dest = walsLanguagesF\n",
    "    )\n",
    "}\n",
    "\n",
    "walsLanguages = read_csv(walsLanguagesF) %>%\n",
    "  st_as_sf(coords=c(\"Longitude\", \"Latitude\"))\n",
    "\n",
    "st_crs(walsLanguages) <- 4326\n"
   ]
  },
  {
   "cell_type": "code",
   "execution_count": null,
   "id": "3cda5f41",
   "metadata": {
    "slideshow": {
     "slide_type": "slide"
    }
   },
   "outputs": [],
   "source": [
    "walsLanguages %>%\n",
    "  st_geometry() %>%\n",
    "  st_transform(\"+proj=eqearth lon_0=160\") %>%\n",
    "  tm_shape() +\n",
    "  tm_symbols(size=.1, col='red', border.lwd=0) +\n",
    "  tm_shape(world.160e) +\n",
    "  tm_polygons(alpha=0)\n"
   ]
  },
  {
   "cell_type": "markdown",
   "id": "dea5acf3",
   "metadata": {
    "slideshow": {
     "slide_type": "slide"
    }
   },
   "source": [
    "removing country boundaries"
   ]
  },
  {
   "cell_type": "code",
   "execution_count": null,
   "id": "95296ac8",
   "metadata": {
    "slideshow": {
     "slide_type": "-"
    }
   },
   "outputs": [],
   "source": [
    "walsLanguages %>%\n",
    "  st_geometry() %>%\n",
    "  st_transform(\"+proj=eqearth lon_0=160\") %>%\n",
    "  tm_shape() +\n",
    "  tm_symbols(size=.01, col='red', border.lwd=0) +\n",
    "  tm_shape(\n",
    "      world.160e %>%\n",
    "      st_geometry() %>%\n",
    "      st_union()\n",
    "  ) +\n",
    "  tm_polygons(alpha=0) +\n",
    "  tm_layout(scale=3) +\n",
    "  tm_graticules()"
   ]
  },
  {
   "cell_type": "markdown",
   "id": "95f80dfa",
   "metadata": {
    "slideshow": {
     "slide_type": "slide"
    }
   },
   "source": [
    "## Plotting language density per country\n",
    "\n",
    "First step: joining the two tibbles."
   ]
  },
  {
   "cell_type": "code",
   "execution_count": null,
   "id": "37ffa295",
   "metadata": {},
   "outputs": [],
   "source": [
    "walsLanguages %>%\n",
    "    select(ID) %>%\n",
    "    st_join(world.160e) %>%\n",
    "    st_drop_geometry() %>%\n",
    "    group_by(iso_a2) %>%\n",
    "    summarize(nLanguages = n()) %>%\n",
    "    inner_join(world.160e) %>%\n",
    "    st_as_sf() %>%\n",
    "    st_transform(\"+proj=eqearth lon_0=160\") %>%\n",
    "    tm_shape() +\n",
    "    tm_fill(col = \"nLanguages\", title=\"number of languages\")\n",
    "    "
   ]
  },
  {
   "cell_type": "code",
   "execution_count": null,
   "id": "56957866",
   "metadata": {
    "scrolled": true,
    "slideshow": {
     "slide_type": "slide"
    }
   },
   "outputs": [],
   "source": [
    "worldWals <- walsLanguages %>%\n",
    "    select(ID) %>%\n",
    "    st_join(world.160e) %>%\n",
    "    st_drop_geometry() %>%\n",
    "    group_by(iso_a2) %>%\n",
    "    summarize(nLanguages = n()) %>%\n",
    "    inner_join(world.160e) %>%\n",
    "    st_as_sf()\n",
    "worldWals"
   ]
  },
  {
   "cell_type": "markdown",
   "id": "c6c4283c",
   "metadata": {
    "slideshow": {
     "slide_type": "slide"
    }
   },
   "source": [
    "To compute the language **density**, we need to pull the geographic size from `world` via `join`."
   ]
  },
  {
   "cell_type": "code",
   "execution_count": null,
   "id": "21036355",
   "metadata": {
    "scrolled": false
   },
   "outputs": [],
   "source": [
    "world %>%\n",
    "    st_drop_geometry() %>%\n",
    "    select(iso_a2, name_long, area_km2) %>%\n",
    "    inner_join(worldWals) %>%\n",
    "    mutate(lDensity = 1000000 * nLanguages / area_km2) %>%\n",
    "    drop_na() %>%\n",
    "    ggplot() +\n",
    "    geom_histogram(aes(x=lDensity)) +\n",
    "    scale_x_continuous(trans=\"log10\")\n"
   ]
  },
  {
   "cell_type": "code",
   "execution_count": null,
   "id": "a9f45cbc",
   "metadata": {
    "slideshow": {
     "slide_type": "slide"
    }
   },
   "outputs": [],
   "source": [
    "world %>%\n",
    "    st_drop_geometry() %>%\n",
    "    select(iso_a2, name_long, area_km2) %>%\n",
    "    inner_join(worldWals) %>%\n",
    "    mutate(lDensity = 1000000 * nLanguages / (area_km2)) %>%\n",
    "    mutate(logDensity = log(lDensity)) %>% \n",
    "    drop_na() %>%\n",
    "    st_as_sf() %>%\n",
    "    st_transform(\"+proj=eqearth lon_0=160\") %>%\n",
    "    tm_shape() +\n",
    "    tm_polygons(\n",
    "        col = \"lDensity\", \n",
    "        midpoint=NA, \n",
    "        #breaks = c(-2, 0, 2, 4, 6, 8),\n",
    "        #labels = c(\"0.01-1\", \"1-100\", \"100-10,000\", \"10,000-1,000,000\", \"1,000,000-100,000,000\"),\n",
    "        style=\"log10_pretty\",\n",
    "        title = \"languages per 1M km_2\",\n",
    "        legend.hist=T\n",
    "    ) +\n",
    "   tm_style(\"col_blind\") +\n",
    "    tm_layout(legend.outside=T) \n",
    "    "
   ]
  },
  {
   "cell_type": "markdown",
   "id": "2d75f2c4",
   "metadata": {
    "slideshow": {
     "slide_type": "slide"
    }
   },
   "source": [
    "## Plotting the distribution of typological features\n",
    "\n"
   ]
  },
  {
   "cell_type": "code",
   "execution_count": null,
   "id": "a87729c5",
   "metadata": {
    "scrolled": true
   },
   "outputs": [],
   "source": [
    "\n",
    "walsParametersF = \"data/parameters.csv\"\n",
    "\n",
    "\n",
    "if (!file.exists(walsParametersF)) {\n",
    "  download.file(\n",
    "    \"https://raw.githubusercontent.com/cldf-datasets/wals/master/cldf/parameters.csv\",\n",
    "    dest = walsParametersF\n",
    "  )\n",
    "}\n",
    "\n",
    "(walsParameters = read_csv(walsParametersF))\n"
   ]
  },
  {
   "cell_type": "code",
   "execution_count": null,
   "id": "8ed9f390",
   "metadata": {
    "slideshow": {
     "slide_type": "slide"
    }
   },
   "outputs": [],
   "source": [
    "\n",
    "walsCodesF = \"data/codes.csv\"\n",
    "\n",
    "\n",
    "if (!file.exists(walsCodesF)) {\n",
    "  download.file(\n",
    "    \"https://raw.githubusercontent.com/cldf-datasets/wals/master/cldf/codes.csv\",\n",
    "    dest = walsCodesF\n",
    "  )\n",
    "}\n",
    "\n",
    "(walsCodes = read_csv(walsCodesF))\n"
   ]
  },
  {
   "cell_type": "code",
   "execution_count": null,
   "id": "6da2a607",
   "metadata": {
    "slideshow": {
     "slide_type": "slide"
    }
   },
   "outputs": [],
   "source": [
    "\n",
    "walsValuesF = \"data/values.csv\"\n",
    "\n",
    "\n",
    "if (!file.exists(walsValuesF)) {\n",
    "  download.file(\n",
    "    \"https://raw.githubusercontent.com/cldf-datasets/wals/master/cldf/values.csv\",\n",
    "    dest = walsValuesF\n",
    "  )\n",
    "}\n",
    "\n",
    "(walsValues = read_csv(walsValuesF))\n"
   ]
  },
  {
   "cell_type": "markdown",
   "id": "9a86f323",
   "metadata": {
    "slideshow": {
     "slide_type": "slide"
    }
   },
   "source": [
    "Let us focus on **Feature 81A: Order of Subject, Object and Verb**.\n",
    "\n",
    "We want to replicate something like this: https://wals.info/feature/81A#2/18.0/152.9"
   ]
  },
  {
   "cell_type": "code",
   "execution_count": null,
   "id": "dea783cc",
   "metadata": {},
   "outputs": [],
   "source": [
    "prm = \"81A\""
   ]
  },
  {
   "cell_type": "code",
   "execution_count": null,
   "id": "4f889871",
   "metadata": {
    "scrolled": true
   },
   "outputs": [],
   "source": [
    "(values.prm <- walsValues %>% \n",
    "    filter(Parameter_ID == prm) %>%\n",
    "    select(Language_ID, Value))"
   ]
  },
  {
   "cell_type": "code",
   "execution_count": null,
   "id": "4a57c361",
   "metadata": {
    "scrolled": true,
    "slideshow": {
     "slide_type": "slide"
    }
   },
   "outputs": [],
   "source": [
    "(values.codes.prm <- \n",
    " walsCodes %>%\n",
    "    filter(Parameter_ID == prm) %>%\n",
    "    mutate(Value=Number) %>%\n",
    "    select(Name, Value) %>%\n",
    "    inner_join(values.prm) %>%\n",
    "    select(!Value))"
   ]
  },
  {
   "cell_type": "code",
   "execution_count": null,
   "id": "8e838a90",
   "metadata": {
    "scrolled": true
   },
   "outputs": [],
   "source": [
    "(prmData <- walsLanguages %>%\n",
    "    transmute(Language_ID = ID) %>%\n",
    "    inner_join(values.codes.prm))"
   ]
  },
  {
   "cell_type": "code",
   "execution_count": null,
   "id": "7eb281cd",
   "metadata": {
    "scrolled": false,
    "slideshow": {
     "slide_type": "slide"
    }
   },
   "outputs": [],
   "source": [
    "options(warn=-1)\n",
    "world.160e %>%\n",
    "    st_transform(\"+proj=eqearth lon_0=160\") %>%\n",
    "    tm_shape() +\n",
    "    tm_fill() +\n",
    "    tm_graticules(lwd=0.3, n.x=10) + \n",
    "    tm_layout(scale=3) +\n",
    "    tm_shape(prmData) +\n",
    "    tm_dots(col=\"Name\", size=0.1, border.lwd=0, title=\"word order\") +\n",
    "    tm_style(\"grey\") +\n",
    "    tm_layout(legend.outside=T) "
   ]
  },
  {
   "cell_type": "markdown",
   "id": "5711487b",
   "metadata": {
    "slideshow": {
     "slide_type": "slide"
    }
   },
   "source": [
    "# Interactive maps\n",
    "\n",
    "Static maps like those are good for publications, but most of the time we share data online. In this context we can add a lot of information via interactive features.\n",
    "\n",
    "There are many frameworks for interactive map-maping out there. The package `leaflet` (actually a javascript package, with an R interface) is relatively mature and versatile."
   ]
  },
  {
   "cell_type": "code",
   "execution_count": null,
   "id": "7e8fa3f0",
   "metadata": {},
   "outputs": [],
   "source": [
    "library(leaflet)"
   ]
  },
  {
   "cell_type": "code",
   "execution_count": null,
   "id": "f3be6a92",
   "metadata": {
    "scrolled": false
   },
   "outputs": [],
   "source": [
    "m <- leaflet() %>%\n",
    "  addTiles() %>%  # Add default OpenStreetMap map tiles\n",
    "  addMarkers(lng=174.768, lat=-36.852, popup=\"The birthplace of R\")\n",
    "m  # Print the map"
   ]
  },
  {
   "cell_type": "code",
   "execution_count": null,
   "id": "25e0c1c7",
   "metadata": {
    "slideshow": {
     "slide_type": "slide"
    }
   },
   "outputs": [],
   "source": [
    "m <- leaflet() %>%\n",
    "  addTiles() %>%  # Add default OpenStreetMap map tiles\n",
    "  addMarkers(lng=9.0619, lat=48.5266, popup=\"Seminar für Sprachwissenschaft\")\n",
    "m  # Print the map"
   ]
  },
  {
   "cell_type": "markdown",
   "id": "31a3df81",
   "metadata": {
    "slideshow": {
     "slide_type": "slide"
    }
   },
   "source": [
    "There are several other map providers besides OpenStreetMap.\n",
    "\n",
    "[Other map providers](https://leaflet-extras.github.io/leaflet-providers/preview/index.html)"
   ]
  },
  {
   "cell_type": "code",
   "execution_count": null,
   "id": "008873cb",
   "metadata": {},
   "outputs": [],
   "source": [
    "options(repr.plot.width=20, repr.plot.height=20)\n",
    "\n",
    "m <- leaflet() %>%\n",
    "    addProviderTiles(providers$Esri.WorldImagery) %>%\n",
    "  addMarkers(lng=9.0619, lat=48.5266, popup=\"Seminar für Sprachwissenschaft\")\n",
    "m"
   ]
  },
  {
   "cell_type": "code",
   "execution_count": null,
   "id": "75a97d22",
   "metadata": {
    "slideshow": {
     "slide_type": "slide"
    }
   },
   "outputs": [],
   "source": [
    "m  <- leaflet() %>% setView(lng=9.0619, lat=48.5266, zoom=12)"
   ]
  },
  {
   "cell_type": "code",
   "execution_count": null,
   "id": "116e3606",
   "metadata": {},
   "outputs": [],
   "source": [
    "m %>% addTiles()"
   ]
  },
  {
   "cell_type": "markdown",
   "id": "90fa6e40",
   "metadata": {
    "slideshow": {
     "slide_type": "slide"
    }
   },
   "source": [
    "### Plotting the location of WALS languages colored according to language Family.\n",
    "\n",
    "First we create a basemap, with a collection of background tiles to choose from"
   ]
  },
  {
   "cell_type": "code",
   "execution_count": null,
   "id": "215b56f4",
   "metadata": {},
   "outputs": [],
   "source": [
    "basemap <- leaflet(height=\"1000\", width=\"1400\") %>%\n",
    "  # add different provider tiles\n",
    "  addProviderTiles(\n",
    "    \"OpenStreetMap\",\n",
    "    # give the layer a name\n",
    "    group = \"OpenStreetMap\"\n",
    "  ) %>%\n",
    "  addProviderTiles(\n",
    "    \"Stamen.Toner\",\n",
    "    group = \"Stamen.Toner\"\n",
    "  ) %>%\n",
    "  addProviderTiles(\n",
    "    \"Stamen.Terrain\",\n",
    "    group = \"Stamen.Terrain\"\n",
    "  ) %>%\n",
    "  addProviderTiles(\n",
    "    \"Esri.WorldStreetMap\",\n",
    "    group = \"Esri.WorldStreetMap\"\n",
    "  ) %>%\n",
    "  addProviderTiles(\n",
    "    \"Wikimedia\",\n",
    "    group = \"Wikimedia\"\n",
    "  ) %>%\n",
    "  addProviderTiles(\n",
    "    \"CartoDB.Positron\",\n",
    "    group = \"CartoDB.Positron\"\n",
    "  ) %>%\n",
    "  addProviderTiles(\n",
    "    \"Esri.WorldImagery\",\n",
    "    group = \"Esri.WorldImagery\"\n",
    "  ) %>%\n",
    "# add a layers control\n",
    "  addLayersControl(\n",
    "    baseGroups = c(\n",
    "      \"OpenStreetMap\", \"Stamen.Toner\",\n",
    "      \"Stamen.Terrain\", \"Esri.WorldStreetMap\",\n",
    "      \"Wikimedia\", \"CartoDB.Positron\", \"Esri.WorldImagery\"\n",
    "    ),\n",
    "    # position it on the topleft\n",
    "    position = \"topleft\"\n",
    "  )\n"
   ]
  },
  {
   "cell_type": "code",
   "execution_count": null,
   "id": "57549c1e",
   "metadata": {
    "scrolled": false,
    "slideshow": {
     "slide_type": "slide"
    }
   },
   "outputs": [],
   "source": [
    "basemap"
   ]
  },
  {
   "cell_type": "markdown",
   "id": "c9a194dd",
   "metadata": {
    "slideshow": {
     "slide_type": "slide"
    }
   },
   "source": [
    "Next we need a function that maps Families to colors."
   ]
  },
  {
   "cell_type": "code",
   "execution_count": null,
   "id": "465609d6",
   "metadata": {},
   "outputs": [],
   "source": [
    "\n",
    "factpal <- colorFactor(brewer.pal(n=12, name=\"Set3\"), walsLanguages$Family)\n"
   ]
  },
  {
   "cell_type": "markdown",
   "id": "ce9665aa",
   "metadata": {},
   "source": [
    "Location markers are added with `addCircleMarkers`."
   ]
  },
  {
   "cell_type": "code",
   "execution_count": null,
   "id": "0b79c354",
   "metadata": {
    "scrolled": false,
    "slideshow": {
     "slide_type": "slide"
    }
   },
   "outputs": [],
   "source": [
    "interactiveWalsMap <- basemap %>%\n",
    "    setView(lng=0, lat=30, zoom=2.5) %>%\n",
    "    addCircleMarkers(\n",
    "        data=walsLanguages,\n",
    "        radius=1,\n",
    "        stroke=T,\n",
    "        weight=30,\n",
    "        opacity=1,\n",
    "        color = ~factpal(Family),\n",
    "        clusterOptions = markerClusterOptions(),\n",
    "        label = paste(\n",
    "            \"Name: \",\n",
    "            walsLanguages$Name, \"<br>\",\n",
    "            \"Family:\", walsLanguages$Family\n",
    "        ) %>%\n",
    "        lapply(htmltools::HTML),\n",
    "        labelOptions = labelOptions(textsize = \"20px\")\n",
    "    )"
   ]
  },
  {
   "cell_type": "code",
   "execution_count": null,
   "id": "2ecaa136",
   "metadata": {
    "scrolled": false,
    "slideshow": {
     "slide_type": "slide"
    }
   },
   "outputs": [],
   "source": [
    "interactiveWalsMap"
   ]
  },
  {
   "cell_type": "code",
   "execution_count": null,
   "id": "8e002b58",
   "metadata": {},
   "outputs": [],
   "source": []
  }
 ],
 "metadata": {
  "celltoolbar": "Slideshow",
  "kernelspec": {
   "display_name": "R",
   "language": "R",
   "name": "ir"
  },
  "language_info": {
   "codemirror_mode": "r",
   "file_extension": ".r",
   "mimetype": "text/x-r-source",
   "name": "R",
   "pygments_lexer": "r",
   "version": "4.0.4"
  }
 },
 "nbformat": 4,
 "nbformat_minor": 5
}
